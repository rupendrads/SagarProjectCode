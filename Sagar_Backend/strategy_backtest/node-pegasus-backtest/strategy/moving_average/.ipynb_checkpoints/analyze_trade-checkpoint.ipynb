{
 "cells": [
  {
   "cell_type": "code",
   "execution_count": null,
   "id": "c8096939",
   "metadata": {},
   "outputs": [],
   "source": [
    "path = r'C:\\Users\\pegas\\OneDrive\\Desktop\\pegasus-backtest-new\\strategy\\moving_average\\moving_average_NIFTY_0930_1430_15_30_10_20_ema_tradebook.csv'"
   ]
  },
  {
   "cell_type": "code",
   "execution_count": 7,
   "id": "9c79fdf3",
   "metadata": {},
   "outputs": [],
   "source": [
    "import pandas as pd"
   ]
  },
  {
   "cell_type": "code",
   "execution_count": 8,
   "id": "e7d9472d",
   "metadata": {},
   "outputs": [],
   "source": [
    "df = pd.read_csv('deepak.csv')"
   ]
  },
  {
   "cell_type": "code",
   "execution_count": 10,
   "id": "7979f318",
   "metadata": {},
   "outputs": [],
   "source": [
    "daily_returns_df = df.copy()"
   ]
  },
  {
   "cell_type": "code",
   "execution_count": 13,
   "id": "19f9cfc8",
   "metadata": {},
   "outputs": [],
   "source": [
    "daily_returns_df.set_index('date',inplace=True)"
   ]
  },
  {
   "cell_type": "code",
   "execution_count": 18,
   "id": "559d8281",
   "metadata": {},
   "outputs": [],
   "source": [
    "daily_returns_df['cummax'] = daily_returns_df['drawdown'].cummax()\n"
   ]
  },
  {
   "cell_type": "code",
   "execution_count": 22,
   "id": "a37c5a18",
   "metadata": {},
   "outputs": [
    {
     "data": {
      "text/plain": [
       "0.0"
      ]
     },
     "execution_count": 22,
     "metadata": {},
     "output_type": "execute_result"
    }
   ],
   "source": []
  },
  {
   "cell_type": "code",
   "execution_count": 17,
   "id": "0c632252",
   "metadata": {},
   "outputs": [
    {
     "ename": "TypeError",
     "evalue": "unsupported operand type(s) for -: 'str' and 'str'",
     "output_type": "error",
     "traceback": [
      "\u001b[1;31m---------------------------------------------------------------------------\u001b[0m",
      "\u001b[1;31mTypeError\u001b[0m                                 Traceback (most recent call last)",
      "File \u001b[1;32mC:\\ProgramData\\anaconda3\\Lib\\site-packages\\pandas\\core\\ops\\array_ops.py:171\u001b[0m, in \u001b[0;36m_na_arithmetic_op\u001b[1;34m(left, right, op, is_cmp)\u001b[0m\n\u001b[0;32m    170\u001b[0m \u001b[38;5;28;01mtry\u001b[39;00m:\n\u001b[1;32m--> 171\u001b[0m     result \u001b[38;5;241m=\u001b[39m func(left, right)\n\u001b[0;32m    172\u001b[0m \u001b[38;5;28;01mexcept\u001b[39;00m \u001b[38;5;167;01mTypeError\u001b[39;00m:\n",
      "File \u001b[1;32mC:\\ProgramData\\anaconda3\\Lib\\site-packages\\pandas\\core\\computation\\expressions.py:239\u001b[0m, in \u001b[0;36mevaluate\u001b[1;34m(op, a, b, use_numexpr)\u001b[0m\n\u001b[0;32m    237\u001b[0m     \u001b[38;5;28;01mif\u001b[39;00m use_numexpr:\n\u001b[0;32m    238\u001b[0m         \u001b[38;5;66;03m# error: \"None\" not callable\u001b[39;00m\n\u001b[1;32m--> 239\u001b[0m         \u001b[38;5;28;01mreturn\u001b[39;00m _evaluate(op, op_str, a, b)  \u001b[38;5;66;03m# type: ignore[misc]\u001b[39;00m\n\u001b[0;32m    240\u001b[0m \u001b[38;5;28;01mreturn\u001b[39;00m _evaluate_standard(op, op_str, a, b)\n",
      "File \u001b[1;32mC:\\ProgramData\\anaconda3\\Lib\\site-packages\\pandas\\core\\computation\\expressions.py:128\u001b[0m, in \u001b[0;36m_evaluate_numexpr\u001b[1;34m(op, op_str, a, b)\u001b[0m\n\u001b[0;32m    127\u001b[0m \u001b[38;5;28;01mif\u001b[39;00m result \u001b[38;5;129;01mis\u001b[39;00m \u001b[38;5;28;01mNone\u001b[39;00m:\n\u001b[1;32m--> 128\u001b[0m     result \u001b[38;5;241m=\u001b[39m _evaluate_standard(op, op_str, a, b)\n\u001b[0;32m    130\u001b[0m \u001b[38;5;28;01mreturn\u001b[39;00m result\n",
      "File \u001b[1;32mC:\\ProgramData\\anaconda3\\Lib\\site-packages\\pandas\\core\\computation\\expressions.py:70\u001b[0m, in \u001b[0;36m_evaluate_standard\u001b[1;34m(op, op_str, a, b)\u001b[0m\n\u001b[0;32m     69\u001b[0m     _store_test_result(\u001b[38;5;28;01mFalse\u001b[39;00m)\n\u001b[1;32m---> 70\u001b[0m \u001b[38;5;28;01mreturn\u001b[39;00m op(a, b)\n",
      "\u001b[1;31mTypeError\u001b[0m: unsupported operand type(s) for -: 'str' and 'str'",
      "\nDuring handling of the above exception, another exception occurred:\n",
      "\u001b[1;31mTypeError\u001b[0m                                 Traceback (most recent call last)",
      "Cell \u001b[1;32mIn[17], line 17\u001b[0m\n\u001b[0;32m     14\u001b[0m     end_indices \u001b[38;5;241m=\u001b[39m end_indices\u001b[38;5;241m.\u001b[39minsert(\u001b[38;5;28mlen\u001b[39m(end_indices), drawdown_series\u001b[38;5;241m.\u001b[39mindex[\u001b[38;5;241m-\u001b[39m\u001b[38;5;241m1\u001b[39m])\n\u001b[0;32m     16\u001b[0m \u001b[38;5;66;03m# Find the lengths of consecutive negative values (drawdown)\u001b[39;00m\n\u001b[1;32m---> 17\u001b[0m consecutive_lengths \u001b[38;5;241m=\u001b[39m end_indices \u001b[38;5;241m-\u001b[39m start_indices\n\u001b[0;32m     19\u001b[0m \u001b[38;5;66;03m# Find the maximum length of consecutive negative values (drawdown)\u001b[39;00m\n\u001b[0;32m     20\u001b[0m max_drawdown_days \u001b[38;5;241m=\u001b[39m consecutive_lengths\u001b[38;5;241m.\u001b[39mmax() \u001b[38;5;28;01mif\u001b[39;00m \u001b[38;5;129;01mnot\u001b[39;00m consecutive_lengths\u001b[38;5;241m.\u001b[39mempty \u001b[38;5;28;01melse\u001b[39;00m \u001b[38;5;241m0\u001b[39m\n",
      "File \u001b[1;32mC:\\ProgramData\\anaconda3\\Lib\\site-packages\\pandas\\core\\ops\\common.py:81\u001b[0m, in \u001b[0;36m_unpack_zerodim_and_defer.<locals>.new_method\u001b[1;34m(self, other)\u001b[0m\n\u001b[0;32m     77\u001b[0m             \u001b[38;5;28;01mreturn\u001b[39;00m \u001b[38;5;28mNotImplemented\u001b[39m\n\u001b[0;32m     79\u001b[0m other \u001b[38;5;241m=\u001b[39m item_from_zerodim(other)\n\u001b[1;32m---> 81\u001b[0m \u001b[38;5;28;01mreturn\u001b[39;00m method(\u001b[38;5;28mself\u001b[39m, other)\n",
      "File \u001b[1;32mC:\\ProgramData\\anaconda3\\Lib\\site-packages\\pandas\\core\\arraylike.py:194\u001b[0m, in \u001b[0;36mOpsMixin.__sub__\u001b[1;34m(self, other)\u001b[0m\n\u001b[0;32m    192\u001b[0m \u001b[38;5;129m@unpack_zerodim_and_defer\u001b[39m(\u001b[38;5;124m\"\u001b[39m\u001b[38;5;124m__sub__\u001b[39m\u001b[38;5;124m\"\u001b[39m)\n\u001b[0;32m    193\u001b[0m \u001b[38;5;28;01mdef\u001b[39;00m \u001b[38;5;21m__sub__\u001b[39m(\u001b[38;5;28mself\u001b[39m, other):\n\u001b[1;32m--> 194\u001b[0m     \u001b[38;5;28;01mreturn\u001b[39;00m \u001b[38;5;28mself\u001b[39m\u001b[38;5;241m.\u001b[39m_arith_method(other, operator\u001b[38;5;241m.\u001b[39msub)\n",
      "File \u001b[1;32mC:\\ProgramData\\anaconda3\\Lib\\site-packages\\pandas\\core\\indexes\\base.py:6817\u001b[0m, in \u001b[0;36mIndex._arith_method\u001b[1;34m(self, other, op)\u001b[0m\n\u001b[0;32m   6807\u001b[0m \u001b[38;5;28;01mif\u001b[39;00m (\n\u001b[0;32m   6808\u001b[0m     \u001b[38;5;28misinstance\u001b[39m(other, Index)\n\u001b[0;32m   6809\u001b[0m     \u001b[38;5;129;01mand\u001b[39;00m is_object_dtype(other\u001b[38;5;241m.\u001b[39mdtype)\n\u001b[1;32m   (...)\u001b[0m\n\u001b[0;32m   6813\u001b[0m     \u001b[38;5;66;03m# a chance to implement ops before we unwrap them.\u001b[39;00m\n\u001b[0;32m   6814\u001b[0m     \u001b[38;5;66;03m# See https://github.com/pandas-dev/pandas/issues/31109\u001b[39;00m\n\u001b[0;32m   6815\u001b[0m     \u001b[38;5;28;01mreturn\u001b[39;00m \u001b[38;5;28mNotImplemented\u001b[39m\n\u001b[1;32m-> 6817\u001b[0m \u001b[38;5;28;01mreturn\u001b[39;00m \u001b[38;5;28msuper\u001b[39m()\u001b[38;5;241m.\u001b[39m_arith_method(other, op)\n",
      "File \u001b[1;32mC:\\ProgramData\\anaconda3\\Lib\\site-packages\\pandas\\core\\base.py:1348\u001b[0m, in \u001b[0;36mIndexOpsMixin._arith_method\u001b[1;34m(self, other, op)\u001b[0m\n\u001b[0;32m   1345\u001b[0m rvalues \u001b[38;5;241m=\u001b[39m ensure_wrapped_if_datetimelike(rvalues)\n\u001b[0;32m   1347\u001b[0m \u001b[38;5;28;01mwith\u001b[39;00m np\u001b[38;5;241m.\u001b[39merrstate(\u001b[38;5;28mall\u001b[39m\u001b[38;5;241m=\u001b[39m\u001b[38;5;124m\"\u001b[39m\u001b[38;5;124mignore\u001b[39m\u001b[38;5;124m\"\u001b[39m):\n\u001b[1;32m-> 1348\u001b[0m     result \u001b[38;5;241m=\u001b[39m ops\u001b[38;5;241m.\u001b[39marithmetic_op(lvalues, rvalues, op)\n\u001b[0;32m   1350\u001b[0m \u001b[38;5;28;01mreturn\u001b[39;00m \u001b[38;5;28mself\u001b[39m\u001b[38;5;241m.\u001b[39m_construct_result(result, name\u001b[38;5;241m=\u001b[39mres_name)\n",
      "File \u001b[1;32mC:\\ProgramData\\anaconda3\\Lib\\site-packages\\pandas\\core\\ops\\array_ops.py:232\u001b[0m, in \u001b[0;36marithmetic_op\u001b[1;34m(left, right, op)\u001b[0m\n\u001b[0;32m    228\u001b[0m     _bool_arith_check(op, left, right)\n\u001b[0;32m    230\u001b[0m     \u001b[38;5;66;03m# error: Argument 1 to \"_na_arithmetic_op\" has incompatible type\u001b[39;00m\n\u001b[0;32m    231\u001b[0m     \u001b[38;5;66;03m# \"Union[ExtensionArray, ndarray[Any, Any]]\"; expected \"ndarray[Any, Any]\"\u001b[39;00m\n\u001b[1;32m--> 232\u001b[0m     res_values \u001b[38;5;241m=\u001b[39m _na_arithmetic_op(left, right, op)  \u001b[38;5;66;03m# type: ignore[arg-type]\u001b[39;00m\n\u001b[0;32m    234\u001b[0m \u001b[38;5;28;01mreturn\u001b[39;00m res_values\n",
      "File \u001b[1;32mC:\\ProgramData\\anaconda3\\Lib\\site-packages\\pandas\\core\\ops\\array_ops.py:178\u001b[0m, in \u001b[0;36m_na_arithmetic_op\u001b[1;34m(left, right, op, is_cmp)\u001b[0m\n\u001b[0;32m    172\u001b[0m \u001b[38;5;28;01mexcept\u001b[39;00m \u001b[38;5;167;01mTypeError\u001b[39;00m:\n\u001b[0;32m    173\u001b[0m     \u001b[38;5;28;01mif\u001b[39;00m \u001b[38;5;129;01mnot\u001b[39;00m is_cmp \u001b[38;5;129;01mand\u001b[39;00m (is_object_dtype(left\u001b[38;5;241m.\u001b[39mdtype) \u001b[38;5;129;01mor\u001b[39;00m is_object_dtype(right)):\n\u001b[0;32m    174\u001b[0m         \u001b[38;5;66;03m# For object dtype, fallback to a masked operation (only operating\u001b[39;00m\n\u001b[0;32m    175\u001b[0m         \u001b[38;5;66;03m#  on the non-missing values)\u001b[39;00m\n\u001b[0;32m    176\u001b[0m         \u001b[38;5;66;03m# Don't do this for comparisons, as that will handle complex numbers\u001b[39;00m\n\u001b[0;32m    177\u001b[0m         \u001b[38;5;66;03m#  incorrectly, see GH#32047\u001b[39;00m\n\u001b[1;32m--> 178\u001b[0m         result \u001b[38;5;241m=\u001b[39m _masked_arith_op(left, right, op)\n\u001b[0;32m    179\u001b[0m     \u001b[38;5;28;01melse\u001b[39;00m:\n\u001b[0;32m    180\u001b[0m         \u001b[38;5;28;01mraise\u001b[39;00m\n",
      "File \u001b[1;32mC:\\ProgramData\\anaconda3\\Lib\\site-packages\\pandas\\core\\ops\\array_ops.py:116\u001b[0m, in \u001b[0;36m_masked_arith_op\u001b[1;34m(x, y, op)\u001b[0m\n\u001b[0;32m    114\u001b[0m     \u001b[38;5;66;03m# See GH#5284, GH#5035, GH#19448 for historical reference\u001b[39;00m\n\u001b[0;32m    115\u001b[0m     \u001b[38;5;28;01mif\u001b[39;00m mask\u001b[38;5;241m.\u001b[39many():\n\u001b[1;32m--> 116\u001b[0m         result[mask] \u001b[38;5;241m=\u001b[39m op(xrav[mask], yrav[mask])\n\u001b[0;32m    118\u001b[0m \u001b[38;5;28;01melse\u001b[39;00m:\n\u001b[0;32m    119\u001b[0m     \u001b[38;5;28;01mif\u001b[39;00m \u001b[38;5;129;01mnot\u001b[39;00m is_scalar(y):\n",
      "\u001b[1;31mTypeError\u001b[0m: unsupported operand type(s) for -: 'str' and 'str'"
     ]
    }
   ],
   "source": [
    "# Assuming daily_returns_df is the DataFrame containing the data\n",
    "drawdown_series = daily_returns_df['drawdown'] < 0  # Create a boolean series where drawdown is negative\n",
    "drawdown_series = drawdown_series.astype(int)  # Convert boolean series to integer (False = 0, True = 1)\n",
    "drawdown_series_diff = drawdown_series.diff()  # Calculate the difference between consecutive elements\n",
    "\n",
    "# Find the starting and ending points of consecutive negative values (drawdown)\n",
    "start_indices = drawdown_series_diff[drawdown_series_diff == 1].index\n",
    "end_indices = drawdown_series_diff[drawdown_series_diff == -1].index\n",
    "\n",
    "# # Check if the drawdown series starts or ends with a drawdown\n",
    "# if drawdown_series.iloc[0]:\n",
    "#     start_indices = start_indices.insert(0, drawdown_series.index[0])\n",
    "# if drawdown_series.iloc[-1]:\n",
    "#     end_indices = end_indices.insert(len(end_indices), drawdown_series.index[-1])\n",
    "\n",
    "# # Find the lengths of consecutive negative values (drawdown)\n",
    "# consecutive_lengths = end_indices - start_indices\n",
    "\n",
    "# # Find the maximum length of consecutive negative values (drawdown)\n",
    "# max_drawdown_days = consecutive_lengths.max() if not consecutive_lengths.empty else 0\n",
    "\n",
    "# print(\"Max number of days in drawdown:\", max_drawdown_days)\n"
   ]
  },
  {
   "cell_type": "code",
   "execution_count": 14,
   "id": "f44bf3f9",
   "metadata": {},
   "outputs": [
    {
     "ename": "ValueError",
     "evalue": "operands could not be broadcast together with shapes (14,) (15,) ",
     "output_type": "error",
     "traceback": [
      "\u001b[1;31m---------------------------------------------------------------------------\u001b[0m",
      "\u001b[1;31mValueError\u001b[0m                                Traceback (most recent call last)",
      "Cell \u001b[1;32mIn[14], line 11\u001b[0m\n\u001b[0;32m      8\u001b[0m end_indices \u001b[38;5;241m=\u001b[39m drawdown_series_diff[drawdown_series_diff \u001b[38;5;241m==\u001b[39m \u001b[38;5;241m-\u001b[39m\u001b[38;5;241m1\u001b[39m]\u001b[38;5;241m.\u001b[39mindex\n\u001b[0;32m     10\u001b[0m \u001b[38;5;66;03m# Find the lengths of consecutive negative values (drawdown)\u001b[39;00m\n\u001b[1;32m---> 11\u001b[0m consecutive_lengths \u001b[38;5;241m=\u001b[39m end_indices \u001b[38;5;241m-\u001b[39m start_indices\n\u001b[0;32m     13\u001b[0m \u001b[38;5;66;03m# Find the maximum length of consecutive negative values (drawdown)\u001b[39;00m\n\u001b[0;32m     14\u001b[0m max_drawdown_days \u001b[38;5;241m=\u001b[39m consecutive_lengths\u001b[38;5;241m.\u001b[39mmax() \u001b[38;5;28;01mif\u001b[39;00m \u001b[38;5;129;01mnot\u001b[39;00m consecutive_lengths\u001b[38;5;241m.\u001b[39mempty \u001b[38;5;28;01melse\u001b[39;00m \u001b[38;5;241m0\u001b[39m\n",
      "File \u001b[1;32mC:\\ProgramData\\anaconda3\\Lib\\site-packages\\pandas\\core\\ops\\common.py:81\u001b[0m, in \u001b[0;36m_unpack_zerodim_and_defer.<locals>.new_method\u001b[1;34m(self, other)\u001b[0m\n\u001b[0;32m     77\u001b[0m             \u001b[38;5;28;01mreturn\u001b[39;00m \u001b[38;5;28mNotImplemented\u001b[39m\n\u001b[0;32m     79\u001b[0m other \u001b[38;5;241m=\u001b[39m item_from_zerodim(other)\n\u001b[1;32m---> 81\u001b[0m \u001b[38;5;28;01mreturn\u001b[39;00m method(\u001b[38;5;28mself\u001b[39m, other)\n",
      "File \u001b[1;32mC:\\ProgramData\\anaconda3\\Lib\\site-packages\\pandas\\core\\arraylike.py:194\u001b[0m, in \u001b[0;36mOpsMixin.__sub__\u001b[1;34m(self, other)\u001b[0m\n\u001b[0;32m    192\u001b[0m \u001b[38;5;129m@unpack_zerodim_and_defer\u001b[39m(\u001b[38;5;124m\"\u001b[39m\u001b[38;5;124m__sub__\u001b[39m\u001b[38;5;124m\"\u001b[39m)\n\u001b[0;32m    193\u001b[0m \u001b[38;5;28;01mdef\u001b[39;00m \u001b[38;5;21m__sub__\u001b[39m(\u001b[38;5;28mself\u001b[39m, other):\n\u001b[1;32m--> 194\u001b[0m     \u001b[38;5;28;01mreturn\u001b[39;00m \u001b[38;5;28mself\u001b[39m\u001b[38;5;241m.\u001b[39m_arith_method(other, operator\u001b[38;5;241m.\u001b[39msub)\n",
      "File \u001b[1;32mC:\\ProgramData\\anaconda3\\Lib\\site-packages\\pandas\\core\\indexes\\base.py:6817\u001b[0m, in \u001b[0;36mIndex._arith_method\u001b[1;34m(self, other, op)\u001b[0m\n\u001b[0;32m   6807\u001b[0m \u001b[38;5;28;01mif\u001b[39;00m (\n\u001b[0;32m   6808\u001b[0m     \u001b[38;5;28misinstance\u001b[39m(other, Index)\n\u001b[0;32m   6809\u001b[0m     \u001b[38;5;129;01mand\u001b[39;00m is_object_dtype(other\u001b[38;5;241m.\u001b[39mdtype)\n\u001b[1;32m   (...)\u001b[0m\n\u001b[0;32m   6813\u001b[0m     \u001b[38;5;66;03m# a chance to implement ops before we unwrap them.\u001b[39;00m\n\u001b[0;32m   6814\u001b[0m     \u001b[38;5;66;03m# See https://github.com/pandas-dev/pandas/issues/31109\u001b[39;00m\n\u001b[0;32m   6815\u001b[0m     \u001b[38;5;28;01mreturn\u001b[39;00m \u001b[38;5;28mNotImplemented\u001b[39m\n\u001b[1;32m-> 6817\u001b[0m \u001b[38;5;28;01mreturn\u001b[39;00m \u001b[38;5;28msuper\u001b[39m()\u001b[38;5;241m.\u001b[39m_arith_method(other, op)\n",
      "File \u001b[1;32mC:\\ProgramData\\anaconda3\\Lib\\site-packages\\pandas\\core\\base.py:1348\u001b[0m, in \u001b[0;36mIndexOpsMixin._arith_method\u001b[1;34m(self, other, op)\u001b[0m\n\u001b[0;32m   1345\u001b[0m rvalues \u001b[38;5;241m=\u001b[39m ensure_wrapped_if_datetimelike(rvalues)\n\u001b[0;32m   1347\u001b[0m \u001b[38;5;28;01mwith\u001b[39;00m np\u001b[38;5;241m.\u001b[39merrstate(\u001b[38;5;28mall\u001b[39m\u001b[38;5;241m=\u001b[39m\u001b[38;5;124m\"\u001b[39m\u001b[38;5;124mignore\u001b[39m\u001b[38;5;124m\"\u001b[39m):\n\u001b[1;32m-> 1348\u001b[0m     result \u001b[38;5;241m=\u001b[39m ops\u001b[38;5;241m.\u001b[39marithmetic_op(lvalues, rvalues, op)\n\u001b[0;32m   1350\u001b[0m \u001b[38;5;28;01mreturn\u001b[39;00m \u001b[38;5;28mself\u001b[39m\u001b[38;5;241m.\u001b[39m_construct_result(result, name\u001b[38;5;241m=\u001b[39mres_name)\n",
      "File \u001b[1;32mC:\\ProgramData\\anaconda3\\Lib\\site-packages\\pandas\\core\\ops\\array_ops.py:232\u001b[0m, in \u001b[0;36marithmetic_op\u001b[1;34m(left, right, op)\u001b[0m\n\u001b[0;32m    228\u001b[0m     _bool_arith_check(op, left, right)\n\u001b[0;32m    230\u001b[0m     \u001b[38;5;66;03m# error: Argument 1 to \"_na_arithmetic_op\" has incompatible type\u001b[39;00m\n\u001b[0;32m    231\u001b[0m     \u001b[38;5;66;03m# \"Union[ExtensionArray, ndarray[Any, Any]]\"; expected \"ndarray[Any, Any]\"\u001b[39;00m\n\u001b[1;32m--> 232\u001b[0m     res_values \u001b[38;5;241m=\u001b[39m _na_arithmetic_op(left, right, op)  \u001b[38;5;66;03m# type: ignore[arg-type]\u001b[39;00m\n\u001b[0;32m    234\u001b[0m \u001b[38;5;28;01mreturn\u001b[39;00m res_values\n",
      "File \u001b[1;32mC:\\ProgramData\\anaconda3\\Lib\\site-packages\\pandas\\core\\ops\\array_ops.py:171\u001b[0m, in \u001b[0;36m_na_arithmetic_op\u001b[1;34m(left, right, op, is_cmp)\u001b[0m\n\u001b[0;32m    168\u001b[0m     func \u001b[38;5;241m=\u001b[39m partial(expressions\u001b[38;5;241m.\u001b[39mevaluate, op)\n\u001b[0;32m    170\u001b[0m \u001b[38;5;28;01mtry\u001b[39;00m:\n\u001b[1;32m--> 171\u001b[0m     result \u001b[38;5;241m=\u001b[39m func(left, right)\n\u001b[0;32m    172\u001b[0m \u001b[38;5;28;01mexcept\u001b[39;00m \u001b[38;5;167;01mTypeError\u001b[39;00m:\n\u001b[0;32m    173\u001b[0m     \u001b[38;5;28;01mif\u001b[39;00m \u001b[38;5;129;01mnot\u001b[39;00m is_cmp \u001b[38;5;129;01mand\u001b[39;00m (is_object_dtype(left\u001b[38;5;241m.\u001b[39mdtype) \u001b[38;5;129;01mor\u001b[39;00m is_object_dtype(right)):\n\u001b[0;32m    174\u001b[0m         \u001b[38;5;66;03m# For object dtype, fallback to a masked operation (only operating\u001b[39;00m\n\u001b[0;32m    175\u001b[0m         \u001b[38;5;66;03m#  on the non-missing values)\u001b[39;00m\n\u001b[0;32m    176\u001b[0m         \u001b[38;5;66;03m# Don't do this for comparisons, as that will handle complex numbers\u001b[39;00m\n\u001b[0;32m    177\u001b[0m         \u001b[38;5;66;03m#  incorrectly, see GH#32047\u001b[39;00m\n",
      "File \u001b[1;32mC:\\ProgramData\\anaconda3\\Lib\\site-packages\\pandas\\core\\computation\\expressions.py:239\u001b[0m, in \u001b[0;36mevaluate\u001b[1;34m(op, a, b, use_numexpr)\u001b[0m\n\u001b[0;32m    236\u001b[0m \u001b[38;5;28;01mif\u001b[39;00m op_str \u001b[38;5;129;01mis\u001b[39;00m \u001b[38;5;129;01mnot\u001b[39;00m \u001b[38;5;28;01mNone\u001b[39;00m:\n\u001b[0;32m    237\u001b[0m     \u001b[38;5;28;01mif\u001b[39;00m use_numexpr:\n\u001b[0;32m    238\u001b[0m         \u001b[38;5;66;03m# error: \"None\" not callable\u001b[39;00m\n\u001b[1;32m--> 239\u001b[0m         \u001b[38;5;28;01mreturn\u001b[39;00m _evaluate(op, op_str, a, b)  \u001b[38;5;66;03m# type: ignore[misc]\u001b[39;00m\n\u001b[0;32m    240\u001b[0m \u001b[38;5;28;01mreturn\u001b[39;00m _evaluate_standard(op, op_str, a, b)\n",
      "File \u001b[1;32mC:\\ProgramData\\anaconda3\\Lib\\site-packages\\pandas\\core\\computation\\expressions.py:128\u001b[0m, in \u001b[0;36m_evaluate_numexpr\u001b[1;34m(op, op_str, a, b)\u001b[0m\n\u001b[0;32m    125\u001b[0m     _store_test_result(result \u001b[38;5;129;01mis\u001b[39;00m \u001b[38;5;129;01mnot\u001b[39;00m \u001b[38;5;28;01mNone\u001b[39;00m)\n\u001b[0;32m    127\u001b[0m \u001b[38;5;28;01mif\u001b[39;00m result \u001b[38;5;129;01mis\u001b[39;00m \u001b[38;5;28;01mNone\u001b[39;00m:\n\u001b[1;32m--> 128\u001b[0m     result \u001b[38;5;241m=\u001b[39m _evaluate_standard(op, op_str, a, b)\n\u001b[0;32m    130\u001b[0m \u001b[38;5;28;01mreturn\u001b[39;00m result\n",
      "File \u001b[1;32mC:\\ProgramData\\anaconda3\\Lib\\site-packages\\pandas\\core\\computation\\expressions.py:70\u001b[0m, in \u001b[0;36m_evaluate_standard\u001b[1;34m(op, op_str, a, b)\u001b[0m\n\u001b[0;32m     68\u001b[0m \u001b[38;5;28;01mif\u001b[39;00m _TEST_MODE:\n\u001b[0;32m     69\u001b[0m     _store_test_result(\u001b[38;5;28;01mFalse\u001b[39;00m)\n\u001b[1;32m---> 70\u001b[0m \u001b[38;5;28;01mreturn\u001b[39;00m op(a, b)\n",
      "\u001b[1;31mValueError\u001b[0m: operands could not be broadcast together with shapes (14,) (15,) "
     ]
    }
   ],
   "source": [
    "# Assuming daily_returns_df is the DataFrame containing the data\n",
    "drawdown_series = daily_returns_df['drawdown'] < 0  # Create a boolean series where drawdown is negative\n",
    "drawdown_series = drawdown_series.astype(int)  # Convert boolean series to integer (False = 0, True = 1)\n",
    "drawdown_series_diff = drawdown_series.diff()  # Calculate the difference between consecutive elements\n",
    "\n",
    "# Find the starting and ending points of consecutive negative values (drawdown)\n",
    "start_indices = drawdown_series_diff[drawdown_series_diff == 1].index\n",
    "end_indices = drawdown_series_diff[drawdown_series_diff == -1].index\n",
    "\n",
    "# Find the lengths of consecutive negative values (drawdown)\n",
    "consecutive_lengths = end_indices - start_indices\n",
    "\n",
    "# Find the maximum length of consecutive negative values (drawdown)\n",
    "max_drawdown_days = consecutive_lengths.max() if not consecutive_lengths.empty else 0\n",
    "\n",
    "print(\"Max number of days in drawdown:\", max_drawdown_days)\n"
   ]
  },
  {
   "cell_type": "code",
   "execution_count": null,
   "id": "70606cf1",
   "metadata": {},
   "outputs": [],
   "source": [
    "df.pnl_pct.cumsum()"
   ]
  },
  {
   "cell_type": "code",
   "execution_count": null,
   "id": "d4d79702",
   "metadata": {},
   "outputs": [],
   "source": [
    "df"
   ]
  },
  {
   "cell_type": "code",
   "execution_count": null,
   "id": "682a3257",
   "metadata": {},
   "outputs": [],
   "source": [
    "df.drawdown"
   ]
  },
  {
   "cell_type": "code",
   "execution_count": null,
   "id": "aca383de",
   "metadata": {},
   "outputs": [],
   "source": [
    "def trade_analysis(df,lot_size,brokerage):\n",
    "    total_trades = len(df)\n",
    "    winning_trades = len(df[df.pnl >= 0])\n",
    "    losing_trades = len(df[df.pnl < 0])\n",
    "    net_profit = round(sum(df['pnl'])*lot_size,2)\n",
    "    winning_strike = round(winning_trades / losing_trades if losing_trades != 0 else 0,2)  \n",
    "    avg_profit = round(sum(df[df.pnl >= 0].pnl) / winning_trades if winning_trades != 0 else 0,2 ) \n",
    "    avg_loss = round(sum(df[df.pnl < 0].pnl) / losing_trades if losing_trades != 0 else 0,2)  \n",
    "    total_brokerage = round(total_trades * brokerage)\n",
    "    return total_trades, winning_trades, losing_trades, net_profit, winning_strike, avg_profit, avg_loss, total_brokerage\n"
   ]
  },
  {
   "cell_type": "code",
   "execution_count": null,
   "id": "8c24fe26",
   "metadata": {},
   "outputs": [],
   "source": [
    "trade_analysis(df,50,40)"
   ]
  },
  {
   "cell_type": "code",
   "execution_count": null,
   "id": "bc230e2f",
   "metadata": {},
   "outputs": [],
   "source": [
    "df"
   ]
  },
  {
   "cell_type": "code",
   "execution_count": null,
   "id": "848b7746",
   "metadata": {},
   "outputs": [],
   "source": [
    "df['date'] = pd.to_datetime(df.entry_time).dt.date.copy()"
   ]
  },
  {
   "cell_type": "code",
   "execution_count": null,
   "id": "a3634769",
   "metadata": {},
   "outputs": [],
   "source": [
    "df"
   ]
  },
  {
   "cell_type": "code",
   "execution_count": null,
   "id": "e7060deb",
   "metadata": {},
   "outputs": [],
   "source": [
    "def calculate_daily_pnl(df):\n",
    "    data = []\n",
    "    tradebook_grp = df.groupby('date')\n",
    "    for date, grp in tradebook_grp:\n",
    "        day_pnl = grp['pnl'].sum()\n",
    "        data.append({'date': date, 'pnl': day_pnl})\n",
    "    daily_pnl = pd.DataFrame(data)\n",
    "    return daily_pnl"
   ]
  },
  {
   "cell_type": "code",
   "execution_count": null,
   "id": "3f099810",
   "metadata": {},
   "outputs": [],
   "source": [
    "daily_returns = calculate_daily_pnl(df)"
   ]
  },
  {
   "cell_type": "code",
   "execution_count": null,
   "id": "d392aa24",
   "metadata": {},
   "outputs": [],
   "source": [
    "capital = 200000\n",
    "lot_size= 50"
   ]
  },
  {
   "cell_type": "code",
   "execution_count": null,
   "id": "40cb36fc",
   "metadata": {},
   "outputs": [],
   "source": [
    "daily_returns_df.pnl = daily_returns_df.pnl * lot_size\n",
    "daily_returns_df[\"pnl_pct\"] = (daily_returns_df[\"pnl\"] / capital) * 100\n",
    "# daily_returns_df.to_csv('daily_returns.csv')\n",
    "daily_returns = daily_returns_df.copy()\n",
    "daily_returns['date'] = pd.to_datetime(daily_returns['date']).dt.date\n",
    "daily_pnl = daily_returns.groupby('date')['pnl'].sum().reset_index()\n",
    "# daily_pnl.to_csv('daily_returns.csv',index=False)"
   ]
  },
  {
   "cell_type": "code",
   "execution_count": null,
   "id": "e5440654",
   "metadata": {},
   "outputs": [],
   "source": [
    "daily_pnl"
   ]
  },
  {
   "cell_type": "code",
   "execution_count": null,
   "id": "5b15d06f",
   "metadata": {},
   "outputs": [],
   "source": [
    "daily_returns_df = daily_returns.copy()"
   ]
  },
  {
   "cell_type": "code",
   "execution_count": null,
   "id": "eeb0596a",
   "metadata": {},
   "outputs": [],
   "source": [
    "daily_returns"
   ]
  },
  {
   "cell_type": "code",
   "execution_count": null,
   "id": "6ffd1cc4",
   "metadata": {},
   "outputs": [],
   "source": [
    "daily_returns_df.reset_index(inplace=True)\n",
    "daily_returns_df[\"pnl_pct_cumulative\"] = daily_returns_df[\"pnl_pct\"].cumsum()\n",
    "capital = 200000\n",
    "cumulative_pnl = np.cumsum(daily_returns_df['pnl'])\n",
    "max_cumulative_pnl = np.maximum.accumulate(cumulative_pnl)\n",
    "daily_returns_df[\"drawdown\"] = ((cumulative_pnl / max_cumulative_pnl) - 1) * 100"
   ]
  },
  {
   "cell_type": "code",
   "execution_count": null,
   "id": "79bbd5ca",
   "metadata": {},
   "outputs": [],
   "source": [
    "    def calculate_daily_returns(self, capital=200000):\n",
    "        self.daily_returns_df = self.daily_pnl.copy()\n",
    "        self.daily_returns_df.pnl = self.daily_returns_df.pnl * 15\n",
    "        self.daily_returns_df[\"pnl_pct\"] = (self.daily_returns_df[\"pnl\"] / capital) * 100\n",
    "        self.daily_returns_df.to_csv('daily_returns.csv')\n",
    "        daily_returns = self.daily_returns_df.copy()\n",
    "        daily_returns['date'] = daily_returns['date'].dt.date\n",
    "        daily_pnl = daily_returns.groupby('date')['pnl'].sum().reset_index()\n",
    "        daily_pnl.to_csv('daily_returns.csv',index=False)"
   ]
  },
  {
   "cell_type": "code",
   "execution_count": null,
   "id": "36774fb5",
   "metadata": {},
   "outputs": [],
   "source": []
  },
  {
   "cell_type": "code",
   "execution_count": null,
   "id": "fa89dc90",
   "metadata": {},
   "outputs": [],
   "source": []
  },
  {
   "cell_type": "code",
   "execution_count": null,
   "id": "0250a1df",
   "metadata": {},
   "outputs": [],
   "source": [
    "# from reportlab.lib import colors as reportlab_colors\n",
    "\n",
    "# def save_trade_analysis_to_pdf(df, lot_size, brokerage, filename=\"trade_analysis.pdf\"):\n",
    "#     # Perform trade analysis\n",
    "#     total_trades, winning_trades, losing_trades, net_profit, winning_strike, avg_profit, avg_loss, total_brokerage = trade_analysis(df, lot_size, brokerage)\n",
    "    \n",
    "#     # Create bar chart\n",
    "#     labels = ['Winning Trades', 'Losing Trades']\n",
    "#     values = [winning_trades, losing_trades]\n",
    "#     colors = ['#4CAF50', '#FF5733']  # Green for winning, Red for losing\n",
    "#     plt.figure(figsize=(8, 6))\n",
    "#     plt.bar(labels, values, color=colors)\n",
    "#     plt.title('Winning vs Losing Trades')\n",
    "#     plt.xlabel('Trade Outcome')\n",
    "#     plt.ylabel('Number of Trades')\n",
    "#     plt.savefig('trade_outcome.png')  # Save the bar chart as a PNG\n",
    "    \n",
    "#     # Creating the PDF\n",
    "#     pdf = SimpleDocTemplate(filename, pagesize=letter)\n",
    "    \n",
    "#     # Create data for table\n",
    "#     data = [\n",
    "#         [\"Total Trades\", total_trades],\n",
    "#         [\"Winning Trades\", winning_trades],\n",
    "#         [\"Losing Trades\", losing_trades],\n",
    "#         [\"Net Profit\", f\"${net_profit}\"],\n",
    "#         [\"Winning Strike\", winning_strike],\n",
    "#         [\"Avg. Profit\", f\"${avg_profit}\"],\n",
    "#         [\"Avg. Loss\", f\"${avg_loss}\"],\n",
    "#         [\"Total Brokerage\", f\"${total_brokerage}\"]\n",
    "#     ]\n",
    "    \n",
    "#     # Adding table to PDF\n",
    "#     table = Table(data)\n",
    "#     style = TableStyle([('BACKGROUND', (0, 0), (-1, 0), reportlab_colors.gray),\n",
    "#                         ('TEXTCOLOR', (0, 0), (-1, 0), reportlab_colors.whitesmoke),\n",
    "#                         ('ALIGN', (0, 0), (-1, -1), 'CENTER'),\n",
    "#                         ('FONTNAME', (0, 0), (-1, 0), 'Helvetica-Bold'),\n",
    "#                         ('BOTTOMPADDING', (0, 0), (-1, 0), 12),\n",
    "#                         ('BACKGROUND', (0, 1), (-1, -1), reportlab_colors.beige),\n",
    "#                         ('GRID', (0, 0), (-1, -1), 1, reportlab_colors.black)])\n",
    "#     table.setStyle(style)\n",
    "#     pdf.build([table])\n",
    "    "
   ]
  },
  {
   "cell_type": "code",
   "execution_count": null,
   "id": "b443bdcc",
   "metadata": {},
   "outputs": [],
   "source": [
    "def calculate_cagr(initial_capital, final_gain, number_of_years=1):\n",
    "    final_value = initial_capital + final_gain\n",
    "    cagr = (final_value / initial_capital) ** (1 / number_of_years) - 1\n",
    "    return round(cagr*100,2)"
   ]
  },
  {
   "cell_type": "code",
   "execution_count": null,
   "id": "226fd6d9",
   "metadata": {},
   "outputs": [],
   "source": [
    "calculate_cagr(200000,90585)"
   ]
  },
  {
   "cell_type": "code",
   "execution_count": null,
   "id": "2c913d87",
   "metadata": {},
   "outputs": [],
   "source": [
    "trade_analysis(df,50,40)"
   ]
  },
  {
   "cell_type": "code",
   "execution_count": null,
   "id": "3e9c98e7",
   "metadata": {},
   "outputs": [],
   "source": [
    "save_trade_analysis_to_pdf(df,50, 40)"
   ]
  },
  {
   "cell_type": "code",
   "execution_count": null,
   "id": "afa4a0c0",
   "metadata": {},
   "outputs": [],
   "source": []
  }
 ],
 "metadata": {
  "kernelspec": {
   "display_name": "Python 3 (ipykernel)",
   "language": "python",
   "name": "python3"
  },
  "language_info": {
   "codemirror_mode": {
    "name": "ipython",
    "version": 3
   },
   "file_extension": ".py",
   "mimetype": "text/x-python",
   "name": "python",
   "nbconvert_exporter": "python",
   "pygments_lexer": "ipython3",
   "version": "3.11.5"
  }
 },
 "nbformat": 4,
 "nbformat_minor": 5
}
