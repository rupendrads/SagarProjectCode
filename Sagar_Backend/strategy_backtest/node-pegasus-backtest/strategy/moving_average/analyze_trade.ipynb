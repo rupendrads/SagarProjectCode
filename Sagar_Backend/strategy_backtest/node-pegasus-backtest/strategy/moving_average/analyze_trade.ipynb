{
 "cells": [
  {
   "cell_type": "code",
   "execution_count": null,
   "id": "a9e3219a",
   "metadata": {},
   "outputs": [],
   "source": [
    "path = r'C:\\Users\\pegas\\OneDrive\\Desktop\\pegasus-backtest-new\\strategy\\moving_average\\moving_average_NIFTY_0930_1430_15_30_10_20_ema_tradebook.csv'"
   ]
  },
  {
   "cell_type": "code",
   "execution_count": 127,
   "id": "bf5b3499",
   "metadata": {},
   "outputs": [],
   "source": [
    "import pandas as pd"
   ]
  },
  {
   "cell_type": "code",
   "execution_count": 128,
   "id": "2f897c93",
   "metadata": {},
   "outputs": [],
   "source": [
    "df = pd.read_csv('deepak.csv')"
   ]
  },
  {
   "cell_type": "code",
   "execution_count": 129,
   "id": "c4ec59a2",
   "metadata": {},
   "outputs": [],
   "source": [
    "daily_returns_df = df.copy()"
   ]
  },
  {
   "cell_type": "code",
   "execution_count": 130,
   "id": "071d8866",
   "metadata": {},
   "outputs": [],
   "source": [
    "daily_returns_df.set_index('date',inplace=True)"
   ]
  },
  {
   "cell_type": "code",
   "execution_count": 131,
   "id": "fbe43430",
   "metadata": {},
   "outputs": [],
   "source": [
    "daily_returns_df['cummax'] = daily_returns_df['drawdown'].cummax()\n"
   ]
  },
  {
   "cell_type": "code",
   "execution_count": 137,
   "id": "c3b682ba",
   "metadata": {},
   "outputs": [],
   "source": [
    "def calculate_streaks(series):\n",
    "    streak_count = 0\n",
    "    max_streak = 0\n",
    "    for value in series:\n",
    "        if value > 0:\n",
    "            streak_count += 1\n",
    "            max_streak = max(max_streak, streak_count)\n",
    "        else:\n",
    "            streak_count = 0\n",
    "    return max_streak"
   ]
  },
  {
   "cell_type": "code",
   "execution_count": 140,
   "id": "9db0f8f5",
   "metadata": {},
   "outputs": [],
   "source": [
    "import concurrent.futures\n",
    "import pandas as pd\n",
    "counter = 0\n",
    "def calculate_implied_futures(idx, row):\n",
    "    \n",
    "    try:\n",
    "        timestamp = row['timestamp']\n",
    "        atm = row['atm']\n",
    "        \n",
    "        ce_data = ce[(ce['timestamp'] == timestamp) & (ce['strike'] == atm)]\n",
    "        pe_data = pe[(pe['timestamp'] == timestamp) & (pe['strike'] == atm)]\n",
    "\n",
    "        ce_min_expiry = min(ce_data['expiry'])\n",
    "        pe_min_expiry = min(pe_data['expiry'])\n",
    "        ce_max_expiry = max(ce_data['expiry'])\n",
    "        pe_max_expiry = max(pe_data['expiry'])\n",
    "        \n",
    "        ce_close_min = ce_data[ce_data['expiry'] == ce_min_expiry]['close'].values[0]\n",
    "        pe_close_min = pe_data[pe_data['expiry'] == pe_min_expiry]['close'].values[0]\n",
    "        ce_close_max = ce_data[ce_data['expiry'] == ce_max_expiry]['close'].values[0]\n",
    "        pe_close_max = pe_data[pe_data['expiry'] == pe_max_expiry]['close'].values[0]\n",
    "        \n",
    "        implied_futures_weekly = round((atm + ce_close_min - pe_close_min), 2)\n",
    "        implied_futures_monthly = round((atm + ce_close_max - pe_close_max), 2)\n",
    "        \n",
    "        df.loc[idx, 'implied_futures_weekly'] = implied_futures_weekly\n",
    "        df.loc[idx, 'implied_futures_monthly'] = implied_futures_monthly\n",
    "#         df.loc[idx, 'ce_symbol_weekly'] = ce_data[ce_data['expiry'] == ce_min_expiry]['symbol'].values[0]\n",
    "#         df.loc[idx, 'pe_symbol_weekly'] = pe_data[pe_data['expiry'] == pe_min_expiry]['symbol'].values[0]\n",
    "#         df.loc[idx, 'ce_symbol_monthly'] = ce_data[ce_data['expiry'] == ce_max_expiry]['close'].values[0]\n",
    "#         df.loc[idx, 'pe_symbol_monthly'] = pe_data[ce_data['expiry'] == pe_max_expiry]['close'].values[0]\n",
    "#         df.loc[idx, 'ce_weekly_close'] = ce_close_min\n",
    "#         df.loc[idx, 'pe_weekly_close']= pe_close_min\n",
    "#         df.loc[idx, 'ce_monthly_close'] = ce_close_max\n",
    "#         df.loc[idx, 'pe_monthly_close'] = pe_close_max\n",
    "        print(f\"Weekly Implied Futures: {implied_futures_weekly}, Monthly Implied Futures: {implied_futures_monthly}\")\n",
    "        counter+=1\n",
    "        print(f'updated rows count {counter}')\n",
    "    except Exception as e:\n",
    "        print(f\"Error processing data at timestamp: {timestamp}. Error: {e}\")\n",
    "df = df[:100]\n",
    "with concurrent.futures.ThreadPoolExecutor(max_workers=20) as executor:\n",
    "    futures = {executor.submit(calculate_implied_futures, idx, row): (idx, row) for idx, row in df.iterrows()}\n",
    "    for future in concurrent.futures.as_completed(futures):\n",
    "        idx, row = futures[future]\n",
    "        try:\n",
    "            future.result()\n",
    "        except Exception as exc:\n",
    "            print(f\"Thread for row {idx} generated an exception: {exc}\")\n",
    "print(df)"
   ]
  },
  {
   "cell_type": "code",
   "execution_count": 142,
   "id": "94859cdc",
   "metadata": {},
   "outputs": [
    {
     "data": {
      "text/plain": [
       "(5, 7)"
      ]
     },
     "execution_count": 142,
     "metadata": {},
     "output_type": "execute_result"
    }
   ],
   "source": [
    "max_losing_streak, max_winning_streak"
   ]
  },
  {
   "cell_type": "code",
   "execution_count": 102,
   "id": "79604209",
   "metadata": {},
   "outputs": [],
   "source": [
    "drawdown_series = daily_returns_df['drawdown'] < 0  \n",
    "drawdown_series = drawdown_series.astype(int)  \n",
    "drawdown_series_diff = drawdown_series.diff()  \n",
    "\n",
    "start_indices = drawdown_series_diff[drawdown_series_diff == 1].index\n",
    "end_indices = drawdown_series_diff[drawdown_series_diff == -1].index\n",
    "start_indices = pd.DataFrame(start_indices, columns=['date'])\n",
    "start_indices = pd.to_datetime(start_indices['date'])\n",
    "end_indices = pd.DataFrame(end_indices, columns=['date'])\n",
    "end_indices = end_indices.rename(columns ={'date':'end_date'})\n",
    "end_indices = pd.to_datetime(end_indices['end_date'])\n",
    "concatenated_df = pd.concat([start_indices, end_indices], axis=1)\n",
    "concatenated_df['dd_days']=concatenated_df['end_date'] - concatenated_df['date']\n",
    "max_days_in_dd = (concatenated_df.max()).dd_days\n",
    "max_days_in_dd = max_days_in_dd.days\n",
    "# # Check if the drawdown series starts or ends with a drawdown\n",
    "# if drawdown_series.iloc[0]:\n",
    "#     start_indices = start_indices.insert(0, drawdown_series.index[0])\n",
    "# if drawdown_series.iloc[-1]:\n",
    "#     end_indices = end_indices.insert(len(end_indices), drawdown_series.index[-1])\n",
    "\n",
    "# # Find the lengths of consecutive negative values (drawdown)\n",
    "# consecutive_lengths = end_indices - start_indices\n",
    "\n",
    "# # Find the maximum length of consecutive negative values (drawdown)\n",
    "# max_drawdown_days = consecutive_lengths.max() if not consecutive_lengths.empty else 0\n",
    "\n",
    "# print(\"Max number of days in drawdown:\", max_drawdown_days)\n"
   ]
  },
  {
   "cell_type": "code",
   "execution_count": 113,
   "id": "e552a551",
   "metadata": {},
   "outputs": [
    {
     "data": {
      "text/html": [
       "<div>\n",
       "<style scoped>\n",
       "    .dataframe tbody tr th:only-of-type {\n",
       "        vertical-align: middle;\n",
       "    }\n",
       "\n",
       "    .dataframe tbody tr th {\n",
       "        vertical-align: top;\n",
       "    }\n",
       "\n",
       "    .dataframe thead th {\n",
       "        text-align: right;\n",
       "    }\n",
       "</style>\n",
       "<table border=\"1\" class=\"dataframe\">\n",
       "  <thead>\n",
       "    <tr style=\"text-align: right;\">\n",
       "      <th></th>\n",
       "      <th>date</th>\n",
       "      <th>end_date</th>\n",
       "      <th>dd_days</th>\n",
       "    </tr>\n",
       "  </thead>\n",
       "  <tbody>\n",
       "    <tr>\n",
       "      <th>0</th>\n",
       "      <td>2021-01-06</td>\n",
       "      <td>2021-01-08</td>\n",
       "      <td>2 days</td>\n",
       "    </tr>\n",
       "    <tr>\n",
       "      <th>1</th>\n",
       "      <td>2021-01-13</td>\n",
       "      <td>2021-01-19</td>\n",
       "      <td>6 days</td>\n",
       "    </tr>\n",
       "    <tr>\n",
       "      <th>2</th>\n",
       "      <td>2021-01-29</td>\n",
       "      <td>2021-02-01</td>\n",
       "      <td>3 days</td>\n",
       "    </tr>\n",
       "    <tr>\n",
       "      <th>3</th>\n",
       "      <td>2021-02-05</td>\n",
       "      <td>2021-02-08</td>\n",
       "      <td>3 days</td>\n",
       "    </tr>\n",
       "    <tr>\n",
       "      <th>4</th>\n",
       "      <td>2021-02-12</td>\n",
       "      <td>2021-08-03</td>\n",
       "      <td>172 days</td>\n",
       "    </tr>\n",
       "    <tr>\n",
       "      <th>5</th>\n",
       "      <td>2021-08-06</td>\n",
       "      <td>2021-08-13</td>\n",
       "      <td>7 days</td>\n",
       "    </tr>\n",
       "    <tr>\n",
       "      <th>6</th>\n",
       "      <td>2021-08-17</td>\n",
       "      <td>2021-08-31</td>\n",
       "      <td>14 days</td>\n",
       "    </tr>\n",
       "    <tr>\n",
       "      <th>7</th>\n",
       "      <td>2021-09-01</td>\n",
       "      <td>2021-09-02</td>\n",
       "      <td>1 days</td>\n",
       "    </tr>\n",
       "    <tr>\n",
       "      <th>8</th>\n",
       "      <td>2021-09-06</td>\n",
       "      <td>2021-09-15</td>\n",
       "      <td>9 days</td>\n",
       "    </tr>\n",
       "    <tr>\n",
       "      <th>9</th>\n",
       "      <td>2021-09-17</td>\n",
       "      <td>2021-09-21</td>\n",
       "      <td>4 days</td>\n",
       "    </tr>\n",
       "    <tr>\n",
       "      <th>10</th>\n",
       "      <td>2021-09-24</td>\n",
       "      <td>2021-10-05</td>\n",
       "      <td>11 days</td>\n",
       "    </tr>\n",
       "    <tr>\n",
       "      <th>11</th>\n",
       "      <td>2021-10-06</td>\n",
       "      <td>2021-10-11</td>\n",
       "      <td>5 days</td>\n",
       "    </tr>\n",
       "    <tr>\n",
       "      <th>12</th>\n",
       "      <td>2021-10-12</td>\n",
       "      <td>2021-10-13</td>\n",
       "      <td>1 days</td>\n",
       "    </tr>\n",
       "    <tr>\n",
       "      <th>13</th>\n",
       "      <td>2021-10-19</td>\n",
       "      <td>2021-11-12</td>\n",
       "      <td>24 days</td>\n",
       "    </tr>\n",
       "    <tr>\n",
       "      <th>14</th>\n",
       "      <td>2021-11-15</td>\n",
       "      <td>NaT</td>\n",
       "      <td>NaT</td>\n",
       "    </tr>\n",
       "  </tbody>\n",
       "</table>\n",
       "</div>"
      ],
      "text/plain": [
       "         date   end_date  dd_days\n",
       "0  2021-01-06 2021-01-08   2 days\n",
       "1  2021-01-13 2021-01-19   6 days\n",
       "2  2021-01-29 2021-02-01   3 days\n",
       "3  2021-02-05 2021-02-08   3 days\n",
       "4  2021-02-12 2021-08-03 172 days\n",
       "5  2021-08-06 2021-08-13   7 days\n",
       "6  2021-08-17 2021-08-31  14 days\n",
       "7  2021-09-01 2021-09-02   1 days\n",
       "8  2021-09-06 2021-09-15   9 days\n",
       "9  2021-09-17 2021-09-21   4 days\n",
       "10 2021-09-24 2021-10-05  11 days\n",
       "11 2021-10-06 2021-10-11   5 days\n",
       "12 2021-10-12 2021-10-13   1 days\n",
       "13 2021-10-19 2021-11-12  24 days\n",
       "14 2021-11-15        NaT      NaT"
      ]
     },
     "execution_count": 113,
     "metadata": {},
     "output_type": "execute_result"
    }
   ],
   "source": [
    "concatenated_df"
   ]
  },
  {
   "cell_type": "code",
   "execution_count": 115,
   "id": "dcb11045",
   "metadata": {},
   "outputs": [],
   "source": [
    "concatenated_df.dropna(inplace=True)"
   ]
  },
  {
   "cell_type": "code",
   "execution_count": 123,
   "id": "3efe2fa8",
   "metadata": {},
   "outputs": [
    {
     "data": {
      "text/html": [
       "<div>\n",
       "<style scoped>\n",
       "    .dataframe tbody tr th:only-of-type {\n",
       "        vertical-align: middle;\n",
       "    }\n",
       "\n",
       "    .dataframe tbody tr th {\n",
       "        vertical-align: top;\n",
       "    }\n",
       "\n",
       "    .dataframe thead th {\n",
       "        text-align: right;\n",
       "    }\n",
       "</style>\n",
       "<table border=\"1\" class=\"dataframe\">\n",
       "  <thead>\n",
       "    <tr style=\"text-align: right;\">\n",
       "      <th></th>\n",
       "      <th>Unnamed: 0</th>\n",
       "      <th>pnl</th>\n",
       "      <th>pnl_pct</th>\n",
       "      <th>pnl_pct_cumulative</th>\n",
       "      <th>drawdown</th>\n",
       "      <th>cummax</th>\n",
       "    </tr>\n",
       "    <tr>\n",
       "      <th>date</th>\n",
       "      <th></th>\n",
       "      <th></th>\n",
       "      <th></th>\n",
       "      <th></th>\n",
       "      <th></th>\n",
       "      <th></th>\n",
       "    </tr>\n",
       "  </thead>\n",
       "  <tbody>\n",
       "    <tr>\n",
       "      <th>2021-01-04</th>\n",
       "      <td>0</td>\n",
       "      <td>660.0</td>\n",
       "      <td>0.33000</td>\n",
       "      <td>0.33000</td>\n",
       "      <td>0.000000</td>\n",
       "      <td>0.0</td>\n",
       "    </tr>\n",
       "    <tr>\n",
       "      <th>2021-01-05</th>\n",
       "      <td>1</td>\n",
       "      <td>2635.0</td>\n",
       "      <td>1.31750</td>\n",
       "      <td>1.64750</td>\n",
       "      <td>0.000000</td>\n",
       "      <td>0.0</td>\n",
       "    </tr>\n",
       "    <tr>\n",
       "      <th>2021-01-06</th>\n",
       "      <td>2</td>\n",
       "      <td>-1292.5</td>\n",
       "      <td>-0.64625</td>\n",
       "      <td>1.00125</td>\n",
       "      <td>-39.226100</td>\n",
       "      <td>0.0</td>\n",
       "    </tr>\n",
       "    <tr>\n",
       "      <th>2021-01-07</th>\n",
       "      <td>3</td>\n",
       "      <td>-1040.0</td>\n",
       "      <td>-0.52000</td>\n",
       "      <td>0.48125</td>\n",
       "      <td>-70.789074</td>\n",
       "      <td>0.0</td>\n",
       "    </tr>\n",
       "    <tr>\n",
       "      <th>2021-01-08</th>\n",
       "      <td>4</td>\n",
       "      <td>2375.0</td>\n",
       "      <td>1.18750</td>\n",
       "      <td>1.66875</td>\n",
       "      <td>0.000000</td>\n",
       "      <td>0.0</td>\n",
       "    </tr>\n",
       "    <tr>\n",
       "      <th>...</th>\n",
       "      <td>...</td>\n",
       "      <td>...</td>\n",
       "      <td>...</td>\n",
       "      <td>...</td>\n",
       "      <td>...</td>\n",
       "      <td>...</td>\n",
       "    </tr>\n",
       "    <tr>\n",
       "      <th>2021-12-23</th>\n",
       "      <td>182</td>\n",
       "      <td>392.5</td>\n",
       "      <td>0.19625</td>\n",
       "      <td>45.29875</td>\n",
       "      <td>-15.920744</td>\n",
       "      <td>0.0</td>\n",
       "    </tr>\n",
       "    <tr>\n",
       "      <th>2021-12-24</th>\n",
       "      <td>183</td>\n",
       "      <td>-2870.0</td>\n",
       "      <td>-1.43500</td>\n",
       "      <td>43.86375</td>\n",
       "      <td>-18.584256</td>\n",
       "      <td>0.0</td>\n",
       "    </tr>\n",
       "    <tr>\n",
       "      <th>2021-12-27</th>\n",
       "      <td>184</td>\n",
       "      <td>3622.5</td>\n",
       "      <td>1.81125</td>\n",
       "      <td>45.67500</td>\n",
       "      <td>-15.222385</td>\n",
       "      <td>0.0</td>\n",
       "    </tr>\n",
       "    <tr>\n",
       "      <th>2021-12-28</th>\n",
       "      <td>185</td>\n",
       "      <td>635.0</td>\n",
       "      <td>0.31750</td>\n",
       "      <td>45.99250</td>\n",
       "      <td>-14.633071</td>\n",
       "      <td>0.0</td>\n",
       "    </tr>\n",
       "    <tr>\n",
       "      <th>2021-12-29</th>\n",
       "      <td>186</td>\n",
       "      <td>-1400.0</td>\n",
       "      <td>-0.70000</td>\n",
       "      <td>45.29250</td>\n",
       "      <td>-15.932345</td>\n",
       "      <td>0.0</td>\n",
       "    </tr>\n",
       "  </tbody>\n",
       "</table>\n",
       "<p>187 rows × 6 columns</p>\n",
       "</div>"
      ],
      "text/plain": [
       "            Unnamed: 0     pnl  pnl_pct  pnl_pct_cumulative   drawdown  cummax\n",
       "date                                                                          \n",
       "2021-01-04           0   660.0  0.33000             0.33000   0.000000     0.0\n",
       "2021-01-05           1  2635.0  1.31750             1.64750   0.000000     0.0\n",
       "2021-01-06           2 -1292.5 -0.64625             1.00125 -39.226100     0.0\n",
       "2021-01-07           3 -1040.0 -0.52000             0.48125 -70.789074     0.0\n",
       "2021-01-08           4  2375.0  1.18750             1.66875   0.000000     0.0\n",
       "...                ...     ...      ...                 ...        ...     ...\n",
       "2021-12-23         182   392.5  0.19625            45.29875 -15.920744     0.0\n",
       "2021-12-24         183 -2870.0 -1.43500            43.86375 -18.584256     0.0\n",
       "2021-12-27         184  3622.5  1.81125            45.67500 -15.222385     0.0\n",
       "2021-12-28         185   635.0  0.31750            45.99250 -14.633071     0.0\n",
       "2021-12-29         186 -1400.0 -0.70000            45.29250 -15.932345     0.0\n",
       "\n",
       "[187 rows x 6 columns]"
      ]
     },
     "execution_count": 123,
     "metadata": {},
     "output_type": "execute_result"
    }
   ],
   "source": [
    "daily_returns_df"
   ]
  },
  {
   "cell_type": "code",
   "execution_count": 58,
   "id": "b9ef532e",
   "metadata": {},
   "outputs": [],
   "source": []
  },
  {
   "cell_type": "code",
   "execution_count": 64,
   "id": "100579aa",
   "metadata": {},
   "outputs": [
    {
     "data": {
      "text/plain": [
       "172"
      ]
     },
     "execution_count": 64,
     "metadata": {},
     "output_type": "execute_result"
    }
   ],
   "source": []
  },
  {
   "cell_type": "code",
   "execution_count": 14,
   "id": "4e9d4659",
   "metadata": {},
   "outputs": [
    {
     "ename": "ValueError",
     "evalue": "operands could not be broadcast together with shapes (14,) (15,) ",
     "output_type": "error",
     "traceback": [
      "\u001b[1;31m---------------------------------------------------------------------------\u001b[0m",
      "\u001b[1;31mValueError\u001b[0m                                Traceback (most recent call last)",
      "Cell \u001b[1;32mIn[14], line 11\u001b[0m\n\u001b[0;32m      8\u001b[0m end_indices \u001b[38;5;241m=\u001b[39m drawdown_series_diff[drawdown_series_diff \u001b[38;5;241m==\u001b[39m \u001b[38;5;241m-\u001b[39m\u001b[38;5;241m1\u001b[39m]\u001b[38;5;241m.\u001b[39mindex\n\u001b[0;32m     10\u001b[0m \u001b[38;5;66;03m# Find the lengths of consecutive negative values (drawdown)\u001b[39;00m\n\u001b[1;32m---> 11\u001b[0m consecutive_lengths \u001b[38;5;241m=\u001b[39m end_indices \u001b[38;5;241m-\u001b[39m start_indices\n\u001b[0;32m     13\u001b[0m \u001b[38;5;66;03m# Find the maximum length of consecutive negative values (drawdown)\u001b[39;00m\n\u001b[0;32m     14\u001b[0m max_drawdown_days \u001b[38;5;241m=\u001b[39m consecutive_lengths\u001b[38;5;241m.\u001b[39mmax() \u001b[38;5;28;01mif\u001b[39;00m \u001b[38;5;129;01mnot\u001b[39;00m consecutive_lengths\u001b[38;5;241m.\u001b[39mempty \u001b[38;5;28;01melse\u001b[39;00m \u001b[38;5;241m0\u001b[39m\n",
      "File \u001b[1;32mC:\\ProgramData\\anaconda3\\Lib\\site-packages\\pandas\\core\\ops\\common.py:81\u001b[0m, in \u001b[0;36m_unpack_zerodim_and_defer.<locals>.new_method\u001b[1;34m(self, other)\u001b[0m\n\u001b[0;32m     77\u001b[0m             \u001b[38;5;28;01mreturn\u001b[39;00m \u001b[38;5;28mNotImplemented\u001b[39m\n\u001b[0;32m     79\u001b[0m other \u001b[38;5;241m=\u001b[39m item_from_zerodim(other)\n\u001b[1;32m---> 81\u001b[0m \u001b[38;5;28;01mreturn\u001b[39;00m method(\u001b[38;5;28mself\u001b[39m, other)\n",
      "File \u001b[1;32mC:\\ProgramData\\anaconda3\\Lib\\site-packages\\pandas\\core\\arraylike.py:194\u001b[0m, in \u001b[0;36mOpsMixin.__sub__\u001b[1;34m(self, other)\u001b[0m\n\u001b[0;32m    192\u001b[0m \u001b[38;5;129m@unpack_zerodim_and_defer\u001b[39m(\u001b[38;5;124m\"\u001b[39m\u001b[38;5;124m__sub__\u001b[39m\u001b[38;5;124m\"\u001b[39m)\n\u001b[0;32m    193\u001b[0m \u001b[38;5;28;01mdef\u001b[39;00m \u001b[38;5;21m__sub__\u001b[39m(\u001b[38;5;28mself\u001b[39m, other):\n\u001b[1;32m--> 194\u001b[0m     \u001b[38;5;28;01mreturn\u001b[39;00m \u001b[38;5;28mself\u001b[39m\u001b[38;5;241m.\u001b[39m_arith_method(other, operator\u001b[38;5;241m.\u001b[39msub)\n",
      "File \u001b[1;32mC:\\ProgramData\\anaconda3\\Lib\\site-packages\\pandas\\core\\indexes\\base.py:6817\u001b[0m, in \u001b[0;36mIndex._arith_method\u001b[1;34m(self, other, op)\u001b[0m\n\u001b[0;32m   6807\u001b[0m \u001b[38;5;28;01mif\u001b[39;00m (\n\u001b[0;32m   6808\u001b[0m     \u001b[38;5;28misinstance\u001b[39m(other, Index)\n\u001b[0;32m   6809\u001b[0m     \u001b[38;5;129;01mand\u001b[39;00m is_object_dtype(other\u001b[38;5;241m.\u001b[39mdtype)\n\u001b[1;32m   (...)\u001b[0m\n\u001b[0;32m   6813\u001b[0m     \u001b[38;5;66;03m# a chance to implement ops before we unwrap them.\u001b[39;00m\n\u001b[0;32m   6814\u001b[0m     \u001b[38;5;66;03m# See https://github.com/pandas-dev/pandas/issues/31109\u001b[39;00m\n\u001b[0;32m   6815\u001b[0m     \u001b[38;5;28;01mreturn\u001b[39;00m \u001b[38;5;28mNotImplemented\u001b[39m\n\u001b[1;32m-> 6817\u001b[0m \u001b[38;5;28;01mreturn\u001b[39;00m \u001b[38;5;28msuper\u001b[39m()\u001b[38;5;241m.\u001b[39m_arith_method(other, op)\n",
      "File \u001b[1;32mC:\\ProgramData\\anaconda3\\Lib\\site-packages\\pandas\\core\\base.py:1348\u001b[0m, in \u001b[0;36mIndexOpsMixin._arith_method\u001b[1;34m(self, other, op)\u001b[0m\n\u001b[0;32m   1345\u001b[0m rvalues \u001b[38;5;241m=\u001b[39m ensure_wrapped_if_datetimelike(rvalues)\n\u001b[0;32m   1347\u001b[0m \u001b[38;5;28;01mwith\u001b[39;00m np\u001b[38;5;241m.\u001b[39merrstate(\u001b[38;5;28mall\u001b[39m\u001b[38;5;241m=\u001b[39m\u001b[38;5;124m\"\u001b[39m\u001b[38;5;124mignore\u001b[39m\u001b[38;5;124m\"\u001b[39m):\n\u001b[1;32m-> 1348\u001b[0m     result \u001b[38;5;241m=\u001b[39m ops\u001b[38;5;241m.\u001b[39marithmetic_op(lvalues, rvalues, op)\n\u001b[0;32m   1350\u001b[0m \u001b[38;5;28;01mreturn\u001b[39;00m \u001b[38;5;28mself\u001b[39m\u001b[38;5;241m.\u001b[39m_construct_result(result, name\u001b[38;5;241m=\u001b[39mres_name)\n",
      "File \u001b[1;32mC:\\ProgramData\\anaconda3\\Lib\\site-packages\\pandas\\core\\ops\\array_ops.py:232\u001b[0m, in \u001b[0;36marithmetic_op\u001b[1;34m(left, right, op)\u001b[0m\n\u001b[0;32m    228\u001b[0m     _bool_arith_check(op, left, right)\n\u001b[0;32m    230\u001b[0m     \u001b[38;5;66;03m# error: Argument 1 to \"_na_arithmetic_op\" has incompatible type\u001b[39;00m\n\u001b[0;32m    231\u001b[0m     \u001b[38;5;66;03m# \"Union[ExtensionArray, ndarray[Any, Any]]\"; expected \"ndarray[Any, Any]\"\u001b[39;00m\n\u001b[1;32m--> 232\u001b[0m     res_values \u001b[38;5;241m=\u001b[39m _na_arithmetic_op(left, right, op)  \u001b[38;5;66;03m# type: ignore[arg-type]\u001b[39;00m\n\u001b[0;32m    234\u001b[0m \u001b[38;5;28;01mreturn\u001b[39;00m res_values\n",
      "File \u001b[1;32mC:\\ProgramData\\anaconda3\\Lib\\site-packages\\pandas\\core\\ops\\array_ops.py:171\u001b[0m, in \u001b[0;36m_na_arithmetic_op\u001b[1;34m(left, right, op, is_cmp)\u001b[0m\n\u001b[0;32m    168\u001b[0m     func \u001b[38;5;241m=\u001b[39m partial(expressions\u001b[38;5;241m.\u001b[39mevaluate, op)\n\u001b[0;32m    170\u001b[0m \u001b[38;5;28;01mtry\u001b[39;00m:\n\u001b[1;32m--> 171\u001b[0m     result \u001b[38;5;241m=\u001b[39m func(left, right)\n\u001b[0;32m    172\u001b[0m \u001b[38;5;28;01mexcept\u001b[39;00m \u001b[38;5;167;01mTypeError\u001b[39;00m:\n\u001b[0;32m    173\u001b[0m     \u001b[38;5;28;01mif\u001b[39;00m \u001b[38;5;129;01mnot\u001b[39;00m is_cmp \u001b[38;5;129;01mand\u001b[39;00m (is_object_dtype(left\u001b[38;5;241m.\u001b[39mdtype) \u001b[38;5;129;01mor\u001b[39;00m is_object_dtype(right)):\n\u001b[0;32m    174\u001b[0m         \u001b[38;5;66;03m# For object dtype, fallback to a masked operation (only operating\u001b[39;00m\n\u001b[0;32m    175\u001b[0m         \u001b[38;5;66;03m#  on the non-missing values)\u001b[39;00m\n\u001b[0;32m    176\u001b[0m         \u001b[38;5;66;03m# Don't do this for comparisons, as that will handle complex numbers\u001b[39;00m\n\u001b[0;32m    177\u001b[0m         \u001b[38;5;66;03m#  incorrectly, see GH#32047\u001b[39;00m\n",
      "File \u001b[1;32mC:\\ProgramData\\anaconda3\\Lib\\site-packages\\pandas\\core\\computation\\expressions.py:239\u001b[0m, in \u001b[0;36mevaluate\u001b[1;34m(op, a, b, use_numexpr)\u001b[0m\n\u001b[0;32m    236\u001b[0m \u001b[38;5;28;01mif\u001b[39;00m op_str \u001b[38;5;129;01mis\u001b[39;00m \u001b[38;5;129;01mnot\u001b[39;00m \u001b[38;5;28;01mNone\u001b[39;00m:\n\u001b[0;32m    237\u001b[0m     \u001b[38;5;28;01mif\u001b[39;00m use_numexpr:\n\u001b[0;32m    238\u001b[0m         \u001b[38;5;66;03m# error: \"None\" not callable\u001b[39;00m\n\u001b[1;32m--> 239\u001b[0m         \u001b[38;5;28;01mreturn\u001b[39;00m _evaluate(op, op_str, a, b)  \u001b[38;5;66;03m# type: ignore[misc]\u001b[39;00m\n\u001b[0;32m    240\u001b[0m \u001b[38;5;28;01mreturn\u001b[39;00m _evaluate_standard(op, op_str, a, b)\n",
      "File \u001b[1;32mC:\\ProgramData\\anaconda3\\Lib\\site-packages\\pandas\\core\\computation\\expressions.py:128\u001b[0m, in \u001b[0;36m_evaluate_numexpr\u001b[1;34m(op, op_str, a, b)\u001b[0m\n\u001b[0;32m    125\u001b[0m     _store_test_result(result \u001b[38;5;129;01mis\u001b[39;00m \u001b[38;5;129;01mnot\u001b[39;00m \u001b[38;5;28;01mNone\u001b[39;00m)\n\u001b[0;32m    127\u001b[0m \u001b[38;5;28;01mif\u001b[39;00m result \u001b[38;5;129;01mis\u001b[39;00m \u001b[38;5;28;01mNone\u001b[39;00m:\n\u001b[1;32m--> 128\u001b[0m     result \u001b[38;5;241m=\u001b[39m _evaluate_standard(op, op_str, a, b)\n\u001b[0;32m    130\u001b[0m \u001b[38;5;28;01mreturn\u001b[39;00m result\n",
      "File \u001b[1;32mC:\\ProgramData\\anaconda3\\Lib\\site-packages\\pandas\\core\\computation\\expressions.py:70\u001b[0m, in \u001b[0;36m_evaluate_standard\u001b[1;34m(op, op_str, a, b)\u001b[0m\n\u001b[0;32m     68\u001b[0m \u001b[38;5;28;01mif\u001b[39;00m _TEST_MODE:\n\u001b[0;32m     69\u001b[0m     _store_test_result(\u001b[38;5;28;01mFalse\u001b[39;00m)\n\u001b[1;32m---> 70\u001b[0m \u001b[38;5;28;01mreturn\u001b[39;00m op(a, b)\n",
      "\u001b[1;31mValueError\u001b[0m: operands could not be broadcast together with shapes (14,) (15,) "
     ]
    }
   ],
   "source": [
    "drawdown_series = daily_returns_df['drawdown'] < 0  \n",
    "drawdown_series = drawdown_series.astype(int) \n",
    "drawdown_series_diff = drawdown_series.diff()  \n",
    "\n",
    "start_indices = drawdown_series_diff[drawdown_series_diff == 1].index\n",
    "end_indices = drawdown_series_diff[drawdown_series_diff == -1].index\n",
    "\n",
    "consecutive_lengths = end_indices - start_indices\n",
    "\n",
    "max_drawdown_days = consecutive_lengths.max() if not consecutive_lengths.empty else 0\n",
    "\n",
    "# print(\"Max number of days in drawdown:\", max_drawdown_days)\n"
   ]
  },
  {
   "cell_type": "code",
   "execution_count": 143,
   "id": "193fb9bf",
   "metadata": {},
   "outputs": [],
   "source": [
    "def calculate_cagr(initial_capital, net_pnl):\n",
    "    ending_value = initial_capital + net_pnl\n",
    "    number_of_years = 1\n",
    "    \n",
    "    cagr = (ending_value / initial_capital) ** (1 / number_of_years) - 1\n",
    "    return cagr\n"
   ]
  },
  {
   "cell_type": "code",
   "execution_count": 144,
   "id": "e5a63854",
   "metadata": {},
   "outputs": [
    {
     "data": {
      "text/plain": [
       "0.5"
      ]
     },
     "execution_count": 144,
     "metadata": {},
     "output_type": "execute_result"
    }
   ],
   "source": [
    "calculate_cagr(100,50)"
   ]
  },
  {
   "cell_type": "code",
   "execution_count": null,
   "id": "f551505f",
   "metadata": {},
   "outputs": [],
   "source": [
    "df.drawdown"
   ]
  },
  {
   "cell_type": "code",
   "execution_count": null,
   "id": "71048edc",
   "metadata": {},
   "outputs": [],
   "source": [
    "def trade_analysis(df,lot_size,brokerage):\n",
    "    total_trades = len(df)\n",
    "    winning_trades = len(df[df.pnl >= 0])\n",
    "    losing_trades = len(df[df.pnl < 0])\n",
    "    net_profit = round(sum(df['pnl'])*lot_size,2)\n",
    "    winning_strike = round(winning_trades / losing_trades if losing_trades != 0 else 0,2)  \n",
    "    avg_profit = round(sum(df[df.pnl >= 0].pnl) / winning_trades if winning_trades != 0 else 0,2 ) \n",
    "    avg_loss = round(sum(df[df.pnl < 0].pnl) / losing_trades if losing_trades != 0 else 0,2)  \n",
    "    total_brokerage = round(total_trades * brokerage)\n",
    "    return total_trades, winning_trades, losing_trades, net_profit, winning_strike, avg_profit, avg_loss, total_brokerage\n"
   ]
  },
  {
   "cell_type": "code",
   "execution_count": null,
   "id": "a441a226",
   "metadata": {},
   "outputs": [],
   "source": [
    "trade_analysis(df,50,40)"
   ]
  },
  {
   "cell_type": "code",
   "execution_count": null,
   "id": "adebce83",
   "metadata": {},
   "outputs": [],
   "source": [
    "df"
   ]
  },
  {
   "cell_type": "code",
   "execution_count": null,
   "id": "e071f0ce",
   "metadata": {},
   "outputs": [],
   "source": [
    "df['date'] = pd.to_datetime(df.entry_time).dt.date.copy()"
   ]
  },
  {
   "cell_type": "code",
   "execution_count": null,
   "id": "24b49b1c",
   "metadata": {},
   "outputs": [],
   "source": [
    "df"
   ]
  },
  {
   "cell_type": "code",
   "execution_count": null,
   "id": "8ac68fd0",
   "metadata": {},
   "outputs": [],
   "source": [
    "def calculate_daily_pnl(df):\n",
    "    data = []\n",
    "    tradebook_grp = df.groupby('date')\n",
    "    for date, grp in tradebook_grp:\n",
    "        day_pnl = grp['pnl'].sum()\n",
    "        data.append({'date': date, 'pnl': day_pnl})\n",
    "    daily_pnl = pd.DataFrame(data)\n",
    "    return daily_pnl"
   ]
  },
  {
   "cell_type": "code",
   "execution_count": null,
   "id": "4c7d43b8",
   "metadata": {},
   "outputs": [],
   "source": [
    "daily_returns = calculate_daily_pnl(df)"
   ]
  },
  {
   "cell_type": "code",
   "execution_count": null,
   "id": "09835275",
   "metadata": {},
   "outputs": [],
   "source": [
    "capital = 200000\n",
    "lot_size= 50"
   ]
  },
  {
   "cell_type": "code",
   "execution_count": null,
   "id": "b3ccb9f3",
   "metadata": {},
   "outputs": [],
   "source": [
    "daily_returns_df.pnl = daily_returns_df.pnl * lot_size\n",
    "daily_returns_df[\"pnl_pct\"] = (daily_returns_df[\"pnl\"] / capital) * 100\n",
    "# daily_returns_df.to_csv('daily_returns.csv')\n",
    "daily_returns = daily_returns_df.copy()\n",
    "daily_returns['date'] = pd.to_datetime(daily_returns['date']).dt.date\n",
    "daily_pnl = daily_returns.groupby('date')['pnl'].sum().reset_index()\n",
    "# daily_pnl.to_csv('daily_returns.csv',index=False)"
   ]
  },
  {
   "cell_type": "code",
   "execution_count": null,
   "id": "f1212d6c",
   "metadata": {},
   "outputs": [],
   "source": [
    "daily_pnl"
   ]
  },
  {
   "cell_type": "code",
   "execution_count": null,
   "id": "fedc49d6",
   "metadata": {},
   "outputs": [],
   "source": [
    "daily_returns_df = daily_returns.copy()"
   ]
  },
  {
   "cell_type": "code",
   "execution_count": null,
   "id": "fde23710",
   "metadata": {},
   "outputs": [],
   "source": [
    "daily_returns"
   ]
  },
  {
   "cell_type": "code",
   "execution_count": null,
   "id": "da72caeb",
   "metadata": {},
   "outputs": [],
   "source": [
    "daily_returns_df.reset_index(inplace=True)\n",
    "daily_returns_df[\"pnl_pct_cumulative\"] = daily_returns_df[\"pnl_pct\"].cumsum()\n",
    "capital = 200000\n",
    "cumulative_pnl = np.cumsum(daily_returns_df['pnl'])\n",
    "max_cumulative_pnl = np.maximum.accumulate(cumulative_pnl)\n",
    "daily_returns_df[\"drawdown\"] = ((cumulative_pnl / max_cumulative_pnl) - 1) * 100"
   ]
  },
  {
   "cell_type": "code",
   "execution_count": null,
   "id": "c58203c4",
   "metadata": {},
   "outputs": [],
   "source": [
    "    def calculate_daily_returns(self, capital=200000):\n",
    "        self.daily_returns_df = self.daily_pnl.copy()\n",
    "        self.daily_returns_df.pnl = self.daily_returns_df.pnl * 15\n",
    "        self.daily_returns_df[\"pnl_pct\"] = (self.daily_returns_df[\"pnl\"] / capital) * 100\n",
    "        self.daily_returns_df.to_csv('daily_returns.csv')\n",
    "        daily_returns = self.daily_returns_df.copy()\n",
    "        daily_returns['date'] = daily_returns['date'].dt.date\n",
    "        daily_pnl = daily_returns.groupby('date')['pnl'].sum().reset_index()\n",
    "        daily_pnl.to_csv('daily_returns.csv',index=False)"
   ]
  },
  {
   "cell_type": "code",
   "execution_count": null,
   "id": "6e5c137f",
   "metadata": {},
   "outputs": [],
   "source": []
  },
  {
   "cell_type": "code",
   "execution_count": null,
   "id": "ba091158",
   "metadata": {},
   "outputs": [],
   "source": []
  },
  {
   "cell_type": "code",
   "execution_count": null,
   "id": "46078244",
   "metadata": {},
   "outputs": [],
   "source": [
    "# from reportlab.lib import colors as reportlab_colors\n",
    "\n",
    "# def save_trade_analysis_to_pdf(df, lot_size, brokerage, filename=\"trade_analysis.pdf\"):\n",
    "#     # Perform trade analysis\n",
    "#     total_trades, winning_trades, losing_trades, net_profit, winning_strike, avg_profit, avg_loss, total_brokerage = trade_analysis(df, lot_size, brokerage)\n",
    "    \n",
    "#     # Create bar chart\n",
    "#     labels = ['Winning Trades', 'Losing Trades']\n",
    "#     values = [winning_trades, losing_trades]\n",
    "#     colors = ['#4CAF50', '#FF5733']  # Green for winning, Red for losing\n",
    "#     plt.figure(figsize=(8, 6))\n",
    "#     plt.bar(labels, values, color=colors)\n",
    "#     plt.title('Winning vs Losing Trades')\n",
    "#     plt.xlabel('Trade Outcome')\n",
    "#     plt.ylabel('Number of Trades')\n",
    "#     plt.savefig('trade_outcome.png')  # Save the bar chart as a PNG\n",
    "    \n",
    "#     # Creating the PDF\n",
    "#     pdf = SimpleDocTemplate(filename, pagesize=letter)\n",
    "    \n",
    "#     # Create data for table\n",
    "#     data = [\n",
    "#         [\"Total Trades\", total_trades],\n",
    "#         [\"Winning Trades\", winning_trades],\n",
    "#         [\"Losing Trades\", losing_trades],\n",
    "#         [\"Net Profit\", f\"${net_profit}\"],\n",
    "#         [\"Winning Strike\", winning_strike],\n",
    "#         [\"Avg. Profit\", f\"${avg_profit}\"],\n",
    "#         [\"Avg. Loss\", f\"${avg_loss}\"],\n",
    "#         [\"Total Brokerage\", f\"${total_brokerage}\"]\n",
    "#     ]\n",
    "    \n",
    "#     # Adding table to PDF\n",
    "#     table = Table(data)\n",
    "#     style = TableStyle([('BACKGROUND', (0, 0), (-1, 0), reportlab_colors.gray),\n",
    "#                         ('TEXTCOLOR', (0, 0), (-1, 0), reportlab_colors.whitesmoke),\n",
    "#                         ('ALIGN', (0, 0), (-1, -1), 'CENTER'),\n",
    "#                         ('FONTNAME', (0, 0), (-1, 0), 'Helvetica-Bold'),\n",
    "#                         ('BOTTOMPADDING', (0, 0), (-1, 0), 12),\n",
    "#                         ('BACKGROUND', (0, 1), (-1, -1), reportlab_colors.beige),\n",
    "#                         ('GRID', (0, 0), (-1, -1), 1, reportlab_colors.black)])\n",
    "#     table.setStyle(style)\n",
    "#     pdf.build([table])\n",
    "    "
   ]
  },
  {
   "cell_type": "code",
   "execution_count": null,
   "id": "32e4b806",
   "metadata": {},
   "outputs": [],
   "source": [
    "def calculate_cagr(initial_capital, final_gain, number_of_years=1):\n",
    "    final_value = initial_capital + final_gain\n",
    "    cagr = (final_value / initial_capital) ** (1 / number_of_years) - 1\n",
    "    return round(cagr*100,2)"
   ]
  },
  {
   "cell_type": "code",
   "execution_count": null,
   "id": "88f8789d",
   "metadata": {},
   "outputs": [],
   "source": [
    "calculate_cagr(200000,90585)"
   ]
  },
  {
   "cell_type": "code",
   "execution_count": null,
   "id": "34c6af83",
   "metadata": {},
   "outputs": [],
   "source": [
    "trade_analysis(df,50,40)"
   ]
  },
  {
   "cell_type": "code",
   "execution_count": null,
   "id": "3e154c43",
   "metadata": {},
   "outputs": [],
   "source": [
    "save_trade_analysis_to_pdf(df,50, 40)"
   ]
  },
  {
   "cell_type": "code",
   "execution_count": null,
   "id": "64107645",
   "metadata": {},
   "outputs": [],
   "source": []
  }
 ],
 "metadata": {
  "kernelspec": {
   "display_name": "Python 3 (ipykernel)",
   "language": "python",
   "name": "python3"
  },
  "language_info": {
   "codemirror_mode": {
    "name": "ipython",
    "version": 3
   },
   "file_extension": ".py",
   "mimetype": "text/x-python",
   "name": "python",
   "nbconvert_exporter": "python",
   "pygments_lexer": "ipython3",
   "version": "3.11.5"
  }
 },
 "nbformat": 4,
 "nbformat_minor": 5
}
