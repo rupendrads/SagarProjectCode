{
 "cells": [
  {
   "cell_type": "markdown",
   "id": "d9dc0f9a",
   "metadata": {},
   "source": [
    "task 1: eliminate duplicated combinations produced in json\n",
    "task 2: should be in symbol_date format to avoid conflicts in future (should ve saved in json folder separately)\n",
    "task 3: read this file from the folder in main_clone.js\n",
    "task 4: create performance csv will have naming convention based on date stamp\n",
    "get data\n",
    "create combination pairs using python\n",
    "push it to server side that will create json file\n"
   ]
  },
  {
   "cell_type": "code",
   "execution_count": 28,
   "id": "af63ad1d",
   "metadata": {},
   "outputs": [],
   "source": [
    "# api call"
   ]
  },
  {
   "cell_type": "code",
   "execution_count": 1,
   "id": "52e78462",
   "metadata": {},
   "outputs": [],
   "source": [
    "combination = [{'start_time': '09:30', 'end_time': '14:30', 'short_ma': 5, 'long_ma': 10, 'timeframe': 1, 'moving_average': 'sma'}, {'start_time': '09:30', 'end_time': '14:30', 'short_ma': 5, 'long_ma': 10, 'timeframe': 1, 'moving_average': 'sma'}, {'start_time': '09:30', 'end_time': '14:30', 'short_ma': 5, 'long_ma': 10, 'timeframe': 1, 'moving_average': 'sma'}, {'start_time': '09:30', 'end_time': '14:30', 'short_ma': 5, 'long_ma': 10, 'timeframe': 1, 'moving_average': 'sma'}, {'start_time': '09:30', 'end_time': '14:30', 'short_ma': 5, 'long_ma': 10, 'timeframe': 1, 'moving_average': 'sma'}]"
   ]
  },
  {
   "cell_type": "code",
   "execution_count": 51,
   "id": "ec230959",
   "metadata": {},
   "outputs": [],
   "source": [
    "file_path = r'C:\\Users\\pegas\\OneDrive\\Desktop\\pegasus-backtest-new\\strategy\\moving_average\\check_files\\moving_average_NIFTY_0930_1500_7_24_18_20_ematradebook.csv'\n"
   ]
  },
  {
   "cell_type": "code",
   "execution_count": 52,
   "id": "6fa2f928",
   "metadata": {
    "scrolled": true
   },
   "outputs": [],
   "source": [
    "import pandas as pd\n",
    "\n",
    "df = pd.read_csv(file_path)\n",
    "# df['entry_time'] = pd.to_datetime(df['entry_time'])\n"
   ]
  },
  {
   "cell_type": "code",
   "execution_count": 62,
   "id": "083f2bc2",
   "metadata": {},
   "outputs": [],
   "source": [
    "import numpy as np"
   ]
  },
  {
   "cell_type": "code",
   "execution_count": 70,
   "id": "085a93c4",
   "metadata": {},
   "outputs": [],
   "source": [
    "strategy['capital'] = 2500000\n",
    "strategy['lot_size'] = 50\n",
    "strategy['trade_lot'] = 5"
   ]
  },
  {
   "cell_type": "code",
   "execution_count": 73,
   "id": "5cb82b1f",
   "metadata": {},
   "outputs": [
    {
     "ename": "AttributeError",
     "evalue": "'dict' object has no attribute 'trade_lot'",
     "output_type": "error",
     "traceback": [
      "\u001b[1;31m---------------------------------------------------------------------------\u001b[0m",
      "\u001b[1;31mAttributeError\u001b[0m                            Traceback (most recent call last)",
      "Cell \u001b[1;32mIn[73], line 1\u001b[0m\n\u001b[1;32m----> 1\u001b[0m calculate_performance_data(df, strategy)\n",
      "Cell \u001b[1;32mIn[72], line 42\u001b[0m, in \u001b[0;36mcalculate_performance_data\u001b[1;34m(collective_tradebook, strategy)\u001b[0m\n\u001b[0;32m     39\u001b[0m     max_dd_percentage \u001b[38;5;241m=\u001b[39m \u001b[38;5;28mabs\u001b[39m((\u001b[38;5;28mint\u001b[39m(max_drawdown) \u001b[38;5;241m*\u001b[39m \u001b[38;5;241m100\u001b[39m) \u001b[38;5;241m/\u001b[39m capital)\n\u001b[0;32m     40\u001b[0m \u001b[38;5;66;03m#     total_trades, winning_trades, losing_trades, net_profit, winning_strike, avg_profit, avg_loss, total_brokerage = trade_analysis(collective_tradebook, strategy.trade_lot, lot_size, strategy.broker_charges)\u001b[39;00m\n\u001b[0;32m     41\u001b[0m \u001b[38;5;66;03m#     cagr = calculate_cagr(capital, (net_profit-total_brokerage))\u001b[39;00m\n\u001b[1;32m---> 42\u001b[0m     funds_required \u001b[38;5;241m=\u001b[39m \u001b[38;5;28mround\u001b[39m(\u001b[38;5;241m125000\u001b[39m \u001b[38;5;241m*\u001b[39m strategy\u001b[38;5;241m.\u001b[39mtrade_lot \u001b[38;5;241m+\u001b[39m \u001b[38;5;28mabs\u001b[39m(\u001b[38;5;241m1.5\u001b[39m \u001b[38;5;241m*\u001b[39m max_drawdown), \u001b[38;5;241m2\u001b[39m)\n\u001b[0;32m     43\u001b[0m     exposure \u001b[38;5;241m=\u001b[39m ((\u001b[38;5;241m125000\u001b[39m \u001b[38;5;241m*\u001b[39m strategy[\u001b[38;5;124m\"\u001b[39m\u001b[38;5;124mtrade_lot\u001b[39m\u001b[38;5;124m\"\u001b[39m]) \u001b[38;5;241m/\u001b[39m funds_required) \u001b[38;5;241m*\u001b[39m \u001b[38;5;241m100\u001b[39m\n\u001b[0;32m     45\u001b[0m     performance_data \u001b[38;5;241m=\u001b[39m {\n\u001b[0;32m     46\u001b[0m         \u001b[38;5;124m'\u001b[39m\u001b[38;5;124mstart_time\u001b[39m\u001b[38;5;124m'\u001b[39m: strategy[\u001b[38;5;124m\"\u001b[39m\u001b[38;5;124mstart_time\u001b[39m\u001b[38;5;124m\"\u001b[39m], \n\u001b[0;32m     47\u001b[0m         \u001b[38;5;124m'\u001b[39m\u001b[38;5;124mend_time\u001b[39m\u001b[38;5;124m'\u001b[39m: strategy[\u001b[38;5;124m\"\u001b[39m\u001b[38;5;124mend_time\u001b[39m\u001b[38;5;124m\"\u001b[39m], \n\u001b[1;32m   (...)\u001b[0m\n\u001b[0;32m     68\u001b[0m         \u001b[38;5;124m'\u001b[39m\u001b[38;5;124mfund_required\u001b[39m\u001b[38;5;124m'\u001b[39m: funds_required\n\u001b[0;32m     69\u001b[0m     }\n",
      "\u001b[1;31mAttributeError\u001b[0m: 'dict' object has no attribute 'trade_lot'"
     ]
    }
   ],
   "source": [
    "calculate_performance_data(df, strategy)"
   ]
  },
  {
   "cell_type": "code",
   "execution_count": 61,
   "id": "e4b08d6f",
   "metadata": {},
   "outputs": [
    {
     "data": {
      "text/plain": [
       "{'strategy_name': 'moving_average',\n",
       " 'instrument': 'NIFTY',\n",
       " 'start_time': '09:30',\n",
       " 'end_time': '15:00',\n",
       " 'short_ma': '7',\n",
       " 'long_ma': '24',\n",
       " 'stop_loss': '20'}"
      ]
     },
     "execution_count": 61,
     "metadata": {},
     "output_type": "execute_result"
    }
   ],
   "source": []
  },
  {
   "cell_type": "code",
   "execution_count": null,
   "id": "c1ac426b",
   "metadata": {},
   "outputs": [],
   "source": []
  },
  {
   "cell_type": "code",
   "execution_count": 72,
   "id": "7fd2319c",
   "metadata": {},
   "outputs": [],
   "source": [
    "def calculate_performance_data(collective_tradebook, strategy):\n",
    "    collective_tradebook = pd.read_csv(file_path)\n",
    "    data = []\n",
    "    capital = strategy[\"capital\"]\n",
    "    lot_size = strategy[\"lot_size\"]\n",
    "    collective_tradebook['entry_time'] = pd.to_datetime(collective_tradebook['entry_time'])\n",
    "    collective_tradebook['date'] = collective_tradebook['entry_time'].dt.date\n",
    "    tradebook_grp = collective_tradebook.groupby('date')\n",
    "    \n",
    "    for date, grp in tradebook_grp:\n",
    "        day_pnl = grp['pnl'].sum()\n",
    "        data.append({'date': date, 'pnl': day_pnl})\n",
    "    \n",
    "    daily_pnl = pd.DataFrame(data)\n",
    "    daily_returns_df = daily_pnl.copy()\n",
    "    daily_returns_df.pnl = daily_returns_df.pnl * (strategy[\"trade_lot\"]) * lot_size\n",
    "    daily_returns_df[\"pnl_pct\"] = (daily_returns_df[\"pnl\"] / capital) * 100\n",
    "    daily_returns_df.to_csv('daily_returns.csv')\n",
    "    \n",
    "    daily_returns = daily_returns_df.copy()\n",
    "    daily_returns['date'] = daily_returns['date']\n",
    "    daily_pnl = daily_returns.groupby('date')['pnl'].sum().reset_index()\n",
    "    daily_returns_df.reset_index(inplace=True, drop=True)\n",
    "    daily_returns_df[\"pnl_pct_cumulative\"] = daily_returns_df[\"pnl_pct\"].cumsum()\n",
    "    cumulative_pnl = np.cumsum(daily_returns_df['pnl'])\n",
    "    daily_returns_df['cum_pnl']=daily_returns_df['pnl'].cumsum()\n",
    "    daily_returns_df['total_cap']=daily_returns_df['cum_pnl']+capital\n",
    "    daily_returns_df['peak']=daily_returns_df['total_cap'].cummax()\n",
    "    drawdown=daily_returns_df['total_cap']-daily_returns_df['peak']\n",
    "    daily_returns_df['drawdown'] = drawdown\n",
    "    days_in_drawdowon = len(daily_returns_df[daily_returns_df['drawdown']<0])\n",
    "#     max_winning_streak = calculate_streaks(daily_returns_df['pnl'])\n",
    "#     max_losing_streak = calculate_streaks(-daily_returns_df['pnl'])\n",
    "    daily_returns_df.to_csv('sagar.csv',index=False)\n",
    "    daily_returns_df.set_index(\"date\", inplace=True,drop=True)\n",
    "\n",
    "    max_drawdown = daily_returns_df['drawdown'].min()\n",
    "    max_drawdown = abs(max_drawdown)\n",
    "    max_dd_percentage = abs((int(max_drawdown) * 100) / capital)\n",
    "#     total_trades, winning_trades, losing_trades, net_profit, winning_strike, avg_profit, avg_loss, total_brokerage = trade_analysis(collective_tradebook, strategy.trade_lot, lot_size, strategy.broker_charges)\n",
    "#     cagr = calculate_cagr(capital, (net_profit-total_brokerage))\n",
    "    funds_required = round(125000 * strategy.trade_lot + abs(1.5 * max_drawdown), 2)\n",
    "    exposure = ((125000 * strategy[\"trade_lot\"]) / funds_required) * 100\n",
    "    \n",
    "    performance_data = {\n",
    "        'start_time': strategy[\"start_time\"], \n",
    "        'end_time': strategy[\"end_time\"], \n",
    "        'short_ma': strategy[\"short_ma\"],\n",
    "        'long_ma': strategy[\"long_ma\"],\n",
    "        'timeframe': strategy[\"timeframe\"],\n",
    "        'stop_loss': strategy[\"stop_loss\"], \n",
    "        'moving_average': strategy[\"moving_average\"],\n",
    "#         'total_trades': total_trades,\n",
    "#         'winning_trades': winning_trades,\n",
    "#         'losing_trades': losing_trades,\n",
    "#         'net_profit': net_profit,\n",
    "#         'winning_strike': winning_strike,\n",
    "#         'avg_profit': avg_profit,\n",
    "#         'avg_loss': avg_loss,\n",
    "#         'total_brokerage': total_brokerage,\n",
    "        'max_dd_percentage': max_dd_percentage,\n",
    "#         'max_winning_streak': max_winning_streak,\n",
    "#         'max_losing_streak': max_losing_streak,\n",
    "        'days_in_dd': days_in_drawdowon,\n",
    "        'max_drawdown': round(max_drawdown, 2),\n",
    "#         'cagr': cagr,\n",
    "        'exposure': exposure,\n",
    "        'fund_required': funds_required\n",
    "    }\n",
    "    return performance_data\n",
    "#     update_performance_file(performance_data)"
   ]
  },
  {
   "cell_type": "code",
   "execution_count": null,
   "id": "300edf32",
   "metadata": {},
   "outputs": [],
   "source": [
    "moving_average_NIFTY_0940_1500_27_32_1_20_smatradebook.csv"
   ]
  },
  {
   "cell_type": "code",
   "execution_count": 53,
   "id": "7ee5dc4f",
   "metadata": {},
   "outputs": [],
   "source": [
    "file_path = r'moving_average_NIFTY_0930_1500_7_24_18_20_ematradebook.csv'"
   ]
  },
  {
   "cell_type": "code",
   "execution_count": 58,
   "id": "734dca4f",
   "metadata": {},
   "outputs": [
    {
     "ename": "NameError",
     "evalue": "name 'moving_average_NIFTY_0930_1500_07_24_18_20_ematradebook' is not defined",
     "output_type": "error",
     "traceback": [
      "\u001b[1;31m---------------------------------------------------------------------------\u001b[0m",
      "\u001b[1;31mNameError\u001b[0m                                 Traceback (most recent call last)",
      "Cell \u001b[1;32mIn[58], line 1\u001b[0m\n\u001b[1;32m----> 1\u001b[0m moving_average_NIFTY_0930_1500_07_24_18_20_ematradebook\u001b[38;5;241m.\u001b[39mcsv\n",
      "\u001b[1;31mNameError\u001b[0m: name 'moving_average_NIFTY_0930_1500_07_24_18_20_ematradebook' is not defined"
     ]
    }
   ],
   "source": [
    "moving_average_NIFTY_0930_1500_07_24_18_20_ematradebook.csv\n"
   ]
  },
  {
   "cell_type": "code",
   "execution_count": 59,
   "id": "4ae3eea0",
   "metadata": {},
   "outputs": [
    {
     "name": "stdout",
     "output_type": "stream",
     "text": [
      "Strategy Name: moving_average\n",
      "Instrument: NIFTY\n",
      "Start Time: 09:30\n",
      "End Time: 15:00\n",
      "Short Moving Average: 7\n",
      "Long Moving Average: 24\n",
      "Timeframe: 18\n",
      "Stop Loss: 20\n",
      "Moving Average: ema\n"
     ]
    }
   ],
   "source": [
    "import re\n",
    "\n",
    "file_path = 'moving_average_NIFTY_0930_1500_7_24_18_20_ematradebook.csv'\n",
    "\n",
    "# Define a regular expression pattern to match the file name format\n",
    "pattern = '(\\w+)_(\\w+)_(\\d{4})_(\\d{4})_(\\d{1})_(\\d{2})_(\\d{2})_(\\d{2})_(\\w+)tradebook.csv'\n",
    "\n",
    "# Extract information using regular expression\n",
    "match = re.match(pattern, file_path)\n",
    "strategy ={}\n",
    "\n",
    "if match:\n",
    "    # Extracting information from groups\n",
    "    strat_name = match.group(1)\n",
    "    instrument = match.group(2)\n",
    "    start_time = match.group(3)[:2] + \":\" + match.group(3)[2:]\n",
    "    end_time = match.group(4)[:2] + \":\" + match.group(4)[2:]\n",
    "    short_ma = match.group(5)\n",
    "    long_ma = match.group(6)\n",
    "    timeframe = match.group(7)\n",
    "    stop_loss = match.group(8)\n",
    "    moving_average = match.group(9)\n",
    "    \n",
    "    # Output extracted information\n",
    "    print(\"Strategy Name:\", strat_name)\n",
    "    print(\"Instrument:\", instrument)\n",
    "    print(\"Start Time:\", start_time)\n",
    "    print(\"End Time:\", end_time)\n",
    "    print(\"Short Moving Average:\", short_ma)\n",
    "    print(\"Long Moving Average:\", long_ma)\n",
    "    print(\"Timeframe:\", timeframe)\n",
    "    print(\"Stop Loss:\", stop_loss)\n",
    "    print(\"Moving Average:\", moving_average)\n",
    "    strategy = {\"strategy_name\":strat_name, \"instrument\":instrument, \"start_time\":start_time, \"end_time\": end_time, \"short_ma\": short_ma,\n",
    "               \"long_ma\":long_ma, \"stop_loss\":stop_loss\n",
    "    }\n",
    "\n",
    "else:\n",
    "    print(\"File name doesn't match the expected format.\")\n"
   ]
  },
  {
   "cell_type": "code",
   "execution_count": 60,
   "id": "8ae6b261",
   "metadata": {},
   "outputs": [
    {
     "data": {
      "text/plain": [
       "{'strategy_name': 'moving_average',\n",
       " 'instrument': 'NIFTY',\n",
       " 'start_time': '09:30',\n",
       " 'end_time': '15:00',\n",
       " 'short_ma': '7',\n",
       " 'long_ma': '24',\n",
       " 'stop_loss': '20'}"
      ]
     },
     "execution_count": 60,
     "metadata": {},
     "output_type": "execute_result"
    }
   ],
   "source": [
    "strategy"
   ]
  },
  {
   "cell_type": "code",
   "execution_count": null,
   "id": "85eda01c",
   "metadata": {},
   "outputs": [],
   "source": [
    "{strategy.strat_name}_{strategy.instrument}_{strategy.start_time.replace(\":\", \"\")}_{strategy.end_time.replace(\":\", \"\")}_{strategy.short_ma}_{strategy.long_ma}_{strategy.timeframe}_{strategy.stop_loss}_{strategy.moving_average}tradebook.csv')\n"
   ]
  },
  {
   "cell_type": "code",
   "execution_count": 11,
   "id": "264408c2",
   "metadata": {},
   "outputs": [],
   "source": [
    "path = r'C:\\Users\\pegas\\OneDrive\\Desktop\\pegasus-backtest-new\\nifty.json'"
   ]
  },
  {
   "cell_type": "code",
   "execution_count": 12,
   "id": "80418f20",
   "metadata": {},
   "outputs": [],
   "source": [
    "with open(path, 'r') as file:\n",
    "    json_data = json.load(file)"
   ]
  },
  {
   "cell_type": "code",
   "execution_count": 14,
   "id": "53b95afe",
   "metadata": {},
   "outputs": [
    {
     "name": "stdout",
     "output_type": "stream",
     "text": [
      "{'start_time': '09:30', 'end_time': '14:30', 'short_ma': 5, 'long_ma': 10, 'timeframe': 1, 'moving_average': 'sma'}\n",
      "{'start_time': '09:30', 'end_time': '14:30', 'short_ma': 5, 'long_ma': 10, 'timeframe': 1, 'moving_average': 'sma'}\n",
      "{'start_time': '09:30', 'end_time': '14:30', 'short_ma': 5, 'long_ma': 10, 'timeframe': 1, 'moving_average': 'sma'}\n",
      "{'start_time': '09:30', 'end_time': '14:30', 'short_ma': 5, 'long_ma': 10, 'timeframe': 1, 'moving_average': 'sma'}\n",
      "{'start_time': '09:30', 'end_time': '14:30', 'short_ma': 5, 'long_ma': 10, 'timeframe': 1, 'moving_average': 'sma'}\n",
      "{'start_time': '09:30', 'end_time': '14:30', 'short_ma': 5, 'long_ma': 10, 'timeframe': 1, 'moving_average': 'sma'}\n",
      "{'start_time': '09:30', 'end_time': '14:30', 'short_ma': 5, 'long_ma': 10, 'timeframe': 1, 'moving_average': 'ema'}\n",
      "{'start_time': '09:30', 'end_time': '14:30', 'short_ma': 5, 'long_ma': 10, 'timeframe': 1, 'moving_average': 'ema'}\n",
      "{'start_time': '09:30', 'end_time': '14:30', 'short_ma': 5, 'long_ma': 10, 'timeframe': 1, 'moving_average': 'ema'}\n",
      "{'start_time': '09:30', 'end_time': '14:30', 'short_ma': 5, 'long_ma': 10, 'timeframe': 1, 'moving_average': 'ema'}\n",
      "{'start_time': '09:30', 'end_time': '14:30', 'short_ma': 5, 'long_ma': 10, 'timeframe': 1, 'moving_average': 'ema'}\n"
     ]
    }
   ],
   "source": [
    "counter = 0\n",
    "for x in json_data:\n",
    "    counter+=1\n",
    "    print(x)\n",
    "    if counter >10:\n",
    "        break"
   ]
  },
  {
   "cell_type": "code",
   "execution_count": 8,
   "id": "26b6d70c",
   "metadata": {},
   "outputs": [],
   "source": [
    "import json\n",
    "import os\n",
    "\n",
    "# Get the current directory\n",
    "current_directory = os.getcwd()\n",
    "\n",
    "# File path to the JSON file\n",
    "json_file_path = os.path.join(current_directory, 'nifty.json')\n",
    "\n",
    "# Read JSON data from file\n",
    "with open(json_file_path, 'r') as file:\n",
    "    json_data = json.load(file)\n",
    "\n",
    "# Extract unique combinations\n",
    "# unique_combinations = []\n",
    "# for item in nifty_data:\n",
    "#     combination = item['combination']\n",
    "#     if combination not in unique_combinations:\n",
    "#         unique_combinations.append(combination)\n",
    "\n",
    "# # Save unique combinations to a new JSON file\n",
    "# output_json_file_path = os.path.join(current_directory, 'unique_combinations.json')\n",
    "# with open(output_json_file_path, 'w') as file:\n",
    "#     json.dump(unique_combinations, file, indent=4)\n",
    "\n",
    "# print(\"Unique combinations saved to:\", output_json_file_path)\n"
   ]
  },
  {
   "cell_type": "code",
   "execution_count": 9,
   "id": "f051873d",
   "metadata": {},
   "outputs": [],
   "source": [
    "unique_records = [dict(t) for t in {tuple(d.items()) for d in json_data}]\n"
   ]
  },
  {
   "cell_type": "code",
   "execution_count": null,
   "id": "740d8679",
   "metadata": {},
   "outputs": [],
   "source": []
  },
  {
   "cell_type": "code",
   "execution_count": 10,
   "id": "3499e96c",
   "metadata": {},
   "outputs": [
    {
     "name": "stdout",
     "output_type": "stream",
     "text": [
      "{'start_time': '10:50', 'end_time': '15:00', 'short_ma': 21, 'long_ma': 36, 'timeframe': 29, 'moving_average': 'ema'}\n",
      "{'start_time': '11:00', 'end_time': '14:45', 'short_ma': 5, 'long_ma': 24, 'timeframe': 21, 'moving_average': 'ema'}\n",
      "{'start_time': '11:10', 'end_time': '15:00', 'short_ma': 13, 'long_ma': 22, 'timeframe': 27, 'moving_average': 'ema'}\n",
      "{'start_time': '09:50', 'end_time': '14:45', 'short_ma': 13, 'long_ma': 20, 'timeframe': 20, 'moving_average': 'ema'}\n",
      "{'start_time': '09:55', 'end_time': '15:00', 'short_ma': 7, 'long_ma': 26, 'timeframe': 20, 'moving_average': 'ema'}\n",
      "{'start_time': '10:50', 'end_time': '14:30', 'short_ma': 15, 'long_ma': 32, 'timeframe': 27, 'moving_average': 'ema'}\n",
      "{'start_time': '11:30', 'end_time': '15:00', 'short_ma': 15, 'long_ma': 22, 'timeframe': 11, 'moving_average': 'ema'}\n",
      "{'start_time': '10:05', 'end_time': '14:45', 'short_ma': 7, 'long_ma': 14, 'timeframe': 30, 'moving_average': 'ema'}\n",
      "{'start_time': '09:55', 'end_time': '14:30', 'short_ma': 17, 'long_ma': 36, 'timeframe': 30, 'moving_average': 'sma'}\n",
      "{'start_time': '10:35', 'end_time': '15:00', 'short_ma': 29, 'long_ma': 44, 'timeframe': 4, 'moving_average': 'ema'}\n",
      "{'start_time': '11:05', 'end_time': '14:30', 'short_ma': 27, 'long_ma': 32, 'timeframe': 23, 'moving_average': 'sma'}\n"
     ]
    }
   ],
   "source": [
    "counter = 0\n",
    "for unique_record in unique_records:\n",
    "    print(unique_record)\n",
    "    counter+=1\n",
    "    if counter > 10:\n",
    "        break"
   ]
  },
  {
   "cell_type": "code",
   "execution_count": null,
   "id": "f8cafe99",
   "metadata": {},
   "outputs": [],
   "source": []
  }
 ],
 "metadata": {
  "kernelspec": {
   "display_name": "Python 3 (ipykernel)",
   "language": "python",
   "name": "python3"
  },
  "language_info": {
   "codemirror_mode": {
    "name": "ipython",
    "version": 3
   },
   "file_extension": ".py",
   "mimetype": "text/x-python",
   "name": "python",
   "nbconvert_exporter": "python",
   "pygments_lexer": "ipython3",
   "version": "3.11.5"
  }
 },
 "nbformat": 4,
 "nbformat_minor": 5
}
